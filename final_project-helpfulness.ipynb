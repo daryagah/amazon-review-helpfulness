{
 "cells": [
  {
   "cell_type": "markdown",
   "metadata": {},
   "source": [
    "# Predicting Review Helpfulness of Amazon Electronic Products\n",
    "## Data Science Programming Spring 2020\n",
    "## Darya Gahramanova"
   ]
  },
  {
   "cell_type": "code",
   "execution_count": 1,
   "metadata": {},
   "outputs": [
    {
     "name": "stderr",
     "output_type": "stream",
     "text": [
      "Using TensorFlow backend.\n"
     ]
    }
   ],
   "source": [
    "import numpy as np\n",
    "import pandas as pd\n",
    "import nltk\n",
    "import string\n",
    "import gensim\n",
    "import re\n",
    "\n",
    "import matplotlib\n",
    "import matplotlib.pyplot as plt\n",
    "%matplotlib inline\n",
    "import warnings\n",
    "warnings.filterwarnings('ignore')\n",
    "\n",
    "import tensorflow as tf\n",
    "from tensorflow import keras\n",
    "from keras.preprocessing.text import Tokenizer\n",
    "from keras.preprocessing.sequence import pad_sequences\n",
    "from keras.models import Sequential\n",
    "from keras.layers import Dense, Flatten, Embedding, Input, LSTM\n",
    "from keras.models import Model\n",
    "import tensorflow_hub as hub\n",
    "tf.random.set_seed(42)"
   ]
  },
  {
   "cell_type": "markdown",
   "metadata": {},
   "source": [
    "# Getting the Data"
   ]
  },
  {
   "cell_type": "markdown",
   "metadata": {},
   "source": [
    "### Reading data and skipping erroneous lines"
   ]
  },
  {
   "cell_type": "code",
   "execution_count": 2,
   "metadata": {},
   "outputs": [
    {
     "data": {
      "text/html": [
       "<div>\n",
       "<style scoped>\n",
       "    .dataframe tbody tr th:only-of-type {\n",
       "        vertical-align: middle;\n",
       "    }\n",
       "\n",
       "    .dataframe tbody tr th {\n",
       "        vertical-align: top;\n",
       "    }\n",
       "\n",
       "    .dataframe thead th {\n",
       "        text-align: right;\n",
       "    }\n",
       "</style>\n",
       "<table border=\"1\" class=\"dataframe\">\n",
       "  <thead>\n",
       "    <tr style=\"text-align: right;\">\n",
       "      <th></th>\n",
       "      <th>marketplace</th>\n",
       "      <th>customer_id</th>\n",
       "      <th>review_id</th>\n",
       "      <th>product_id</th>\n",
       "      <th>product_parent</th>\n",
       "      <th>product_title</th>\n",
       "      <th>product_category</th>\n",
       "      <th>star_rating</th>\n",
       "      <th>helpful_votes</th>\n",
       "      <th>total_votes</th>\n",
       "      <th>vine</th>\n",
       "      <th>verified_purchase</th>\n",
       "      <th>review_headline</th>\n",
       "      <th>review_body</th>\n",
       "      <th>review_date</th>\n",
       "    </tr>\n",
       "  </thead>\n",
       "  <tbody>\n",
       "    <tr>\n",
       "      <th>0</th>\n",
       "      <td>US</td>\n",
       "      <td>41409413</td>\n",
       "      <td>R2MTG1GCZLR2DK</td>\n",
       "      <td>B00428R89M</td>\n",
       "      <td>112201306</td>\n",
       "      <td>yoomall 5M Antenna WIFI RP-SMA Female to Male ...</td>\n",
       "      <td>Electronics</td>\n",
       "      <td>5</td>\n",
       "      <td>0</td>\n",
       "      <td>0</td>\n",
       "      <td>N</td>\n",
       "      <td>Y</td>\n",
       "      <td>Five Stars</td>\n",
       "      <td>As described.</td>\n",
       "      <td>2015-08-31</td>\n",
       "    </tr>\n",
       "    <tr>\n",
       "      <th>1</th>\n",
       "      <td>US</td>\n",
       "      <td>49668221</td>\n",
       "      <td>R2HBOEM8LE9928</td>\n",
       "      <td>B000068O48</td>\n",
       "      <td>734576678</td>\n",
       "      <td>Hosa GPM-103 3.5mm TRS to 1/4\" TRS Adaptor</td>\n",
       "      <td>Electronics</td>\n",
       "      <td>5</td>\n",
       "      <td>0</td>\n",
       "      <td>0</td>\n",
       "      <td>N</td>\n",
       "      <td>Y</td>\n",
       "      <td>It works as advertising.</td>\n",
       "      <td>It works as advertising.</td>\n",
       "      <td>2015-08-31</td>\n",
       "    </tr>\n",
       "    <tr>\n",
       "      <th>2</th>\n",
       "      <td>US</td>\n",
       "      <td>12338275</td>\n",
       "      <td>R1P4RW1R9FDPEE</td>\n",
       "      <td>B000GGKOG8</td>\n",
       "      <td>614448099</td>\n",
       "      <td>Channel Master Titan 2 Antenna Preamplifier</td>\n",
       "      <td>Electronics</td>\n",
       "      <td>5</td>\n",
       "      <td>1</td>\n",
       "      <td>1</td>\n",
       "      <td>N</td>\n",
       "      <td>Y</td>\n",
       "      <td>Five Stars</td>\n",
       "      <td>Works pissa</td>\n",
       "      <td>2015-08-31</td>\n",
       "    </tr>\n",
       "    <tr>\n",
       "      <th>3</th>\n",
       "      <td>US</td>\n",
       "      <td>38487968</td>\n",
       "      <td>R1EBPM82ENI67M</td>\n",
       "      <td>B000NU4OTA</td>\n",
       "      <td>72265257</td>\n",
       "      <td>LIMTECH Wall charger + USB Hotsync &amp; Charging ...</td>\n",
       "      <td>Electronics</td>\n",
       "      <td>1</td>\n",
       "      <td>0</td>\n",
       "      <td>0</td>\n",
       "      <td>N</td>\n",
       "      <td>Y</td>\n",
       "      <td>One Star</td>\n",
       "      <td>Did not work at all.</td>\n",
       "      <td>2015-08-31</td>\n",
       "    </tr>\n",
       "    <tr>\n",
       "      <th>4</th>\n",
       "      <td>US</td>\n",
       "      <td>23732619</td>\n",
       "      <td>R372S58V6D11AT</td>\n",
       "      <td>B00JOQIO6S</td>\n",
       "      <td>308169188</td>\n",
       "      <td>Skullcandy Air Raid Portable Bluetooth Speaker</td>\n",
       "      <td>Electronics</td>\n",
       "      <td>5</td>\n",
       "      <td>1</td>\n",
       "      <td>1</td>\n",
       "      <td>N</td>\n",
       "      <td>Y</td>\n",
       "      <td>Overall pleased with the item</td>\n",
       "      <td>Works well. Bass is somewhat lacking but is pr...</td>\n",
       "      <td>2015-08-31</td>\n",
       "    </tr>\n",
       "  </tbody>\n",
       "</table>\n",
       "</div>"
      ],
      "text/plain": [
       "  marketplace  customer_id       review_id  product_id  product_parent  \\\n",
       "0          US     41409413  R2MTG1GCZLR2DK  B00428R89M       112201306   \n",
       "1          US     49668221  R2HBOEM8LE9928  B000068O48       734576678   \n",
       "2          US     12338275  R1P4RW1R9FDPEE  B000GGKOG8       614448099   \n",
       "3          US     38487968  R1EBPM82ENI67M  B000NU4OTA        72265257   \n",
       "4          US     23732619  R372S58V6D11AT  B00JOQIO6S       308169188   \n",
       "\n",
       "                                       product_title product_category  \\\n",
       "0  yoomall 5M Antenna WIFI RP-SMA Female to Male ...      Electronics   \n",
       "1         Hosa GPM-103 3.5mm TRS to 1/4\" TRS Adaptor      Electronics   \n",
       "2        Channel Master Titan 2 Antenna Preamplifier      Electronics   \n",
       "3  LIMTECH Wall charger + USB Hotsync & Charging ...      Electronics   \n",
       "4     Skullcandy Air Raid Portable Bluetooth Speaker      Electronics   \n",
       "\n",
       "   star_rating  helpful_votes  total_votes vine verified_purchase  \\\n",
       "0            5              0            0    N                 Y   \n",
       "1            5              0            0    N                 Y   \n",
       "2            5              1            1    N                 Y   \n",
       "3            1              0            0    N                 Y   \n",
       "4            5              1            1    N                 Y   \n",
       "\n",
       "                 review_headline  \\\n",
       "0                     Five Stars   \n",
       "1       It works as advertising.   \n",
       "2                     Five Stars   \n",
       "3                       One Star   \n",
       "4  Overall pleased with the item   \n",
       "\n",
       "                                         review_body review_date  \n",
       "0                                      As described.  2015-08-31  \n",
       "1                           It works as advertising.  2015-08-31  \n",
       "2                                        Works pissa  2015-08-31  \n",
       "3                               Did not work at all.  2015-08-31  \n",
       "4  Works well. Bass is somewhat lacking but is pr...  2015-08-31  "
      ]
     },
     "execution_count": 2,
     "metadata": {},
     "output_type": "execute_result"
    }
   ],
   "source": [
    "data=pd.read_csv('amazon_reviews_us_Electronics_v1_00.tsv', sep='\\t', error_bad_lines=False, warn_bad_lines=False)\n",
    "data.head()"
   ]
  },
  {
   "cell_type": "code",
   "execution_count": 3,
   "metadata": {},
   "outputs": [
    {
     "data": {
      "text/plain": [
       "(3091024, 15)"
      ]
     },
     "execution_count": 3,
     "metadata": {},
     "output_type": "execute_result"
    }
   ],
   "source": [
    "data.shape"
   ]
  },
  {
   "cell_type": "code",
   "execution_count": 4,
   "metadata": {},
   "outputs": [
    {
     "name": "stdout",
     "output_type": "stream",
     "text": [
      "<class 'pandas.core.frame.DataFrame'>\n",
      "RangeIndex: 3091024 entries, 0 to 3091023\n",
      "Data columns (total 15 columns):\n",
      " #   Column             Dtype \n",
      "---  ------             ----- \n",
      " 0   marketplace        object\n",
      " 1   customer_id        int64 \n",
      " 2   review_id          object\n",
      " 3   product_id         object\n",
      " 4   product_parent     int64 \n",
      " 5   product_title      object\n",
      " 6   product_category   object\n",
      " 7   star_rating        int64 \n",
      " 8   helpful_votes      int64 \n",
      " 9   total_votes        int64 \n",
      " 10  vine               object\n",
      " 11  verified_purchase  object\n",
      " 12  review_headline    object\n",
      " 13  review_body        object\n",
      " 14  review_date        object\n",
      "dtypes: int64(5), object(10)\n",
      "memory usage: 353.7+ MB\n"
     ]
    }
   ],
   "source": [
    "data.info()"
   ]
  },
  {
   "cell_type": "code",
   "execution_count": 5,
   "metadata": {},
   "outputs": [
    {
     "name": "stdout",
     "output_type": "stream",
     "text": [
      "count    3.091024e+06\n",
      "mean     2.372440e+00\n",
      "std      2.249700e+01\n",
      "min      0.000000e+00\n",
      "25%      0.000000e+00\n",
      "50%      0.000000e+00\n",
      "75%      1.000000e+00\n",
      "max      1.294400e+04\n",
      "Name: total_votes, dtype: float64\n"
     ]
    }
   ],
   "source": [
    "print(data['total_votes'].describe())"
   ]
  },
  {
   "cell_type": "code",
   "execution_count": 6,
   "metadata": {},
   "outputs": [
    {
     "data": {
      "text/plain": [
       "Text(0, 0.5, 'Review Count')"
      ]
     },
     "execution_count": 6,
     "metadata": {},
     "output_type": "execute_result"
    },
    {
     "data": {
      "image/png": "[encoded data removed]",
      "text/plain": [
       "<Figure size 1080x648 with 3 Axes>"
      ]
     },
     "metadata": {
      "needs_background": "light"
     },
     "output_type": "display_data"
    }
   ],
   "source": [
    "plt.figure(figsize=(15, 9))\n",
    "plt.suptitle('Total Votes Distribution', fontsize=20)\n",
    "plt.subplots_adjust(hspace=0.3)\n",
    "\n",
    "plt.subplot(221)\n",
    "plt.hist(data['total_votes'])\n",
    "plt.title('Normal', fontsize=18)\n",
    "plt.xlabel('Total Votes per Review', fontsize=12)\n",
    "plt.ylabel('Review Count', fontsize=12)\n",
    "\n",
    "plt.subplot(222)\n",
    "plt.hist(data['total_votes'])\n",
    "plt.ylim([0, 200])\n",
    "plt.title('Cropped Y', fontsize=18)\n",
    "plt.xlabel('Total Votes per Review', fontsize=12)\n",
    "plt.ylabel('Review Count', fontsize=12)\n",
    "\n",
    "bins = np.linspace(0, 10, 10)\n",
    "plt.subplot(212)\n",
    "plt.hist(data['total_votes'], bins)\n",
    "plt.title('Cropped X', fontsize=18)\n",
    "plt.xlabel('Total Votes per Review', fontsize=12)\n",
    "plt.ylabel('Review Count', fontsize=12)"
   ]
  },
  {
   "cell_type": "markdown",
   "metadata": {},
   "source": [
    "### Selecting reviews with 7 votes or more and from the US"
   ]
  },
  {
   "cell_type": "code",
   "execution_count": 7,
   "metadata": {},
   "outputs": [
    {
     "name": "stdout",
     "output_type": "stream",
     "text": [
      "3091024\n",
      "203310\n"
     ]
    }
   ],
   "source": [
    "new_data = data[data['marketplace'] == 'US']\n",
    "new_data = new_data[new_data['total_votes'] >= 7]\n",
    "\n",
    "print(len(data))\n",
    "print(len(new_data))"
   ]
  },
  {
   "cell_type": "markdown",
   "metadata": {},
   "source": [
    "### Calculating review scores based on helpfulness (helpful votes out of total votes) and popularity (helpful votes per review among helpful votes per product) by using weighted average"
   ]
  },
  {
   "cell_type": "code",
   "execution_count": 8,
   "metadata": {},
   "outputs": [],
   "source": [
    "total_helpful_votes = new_data.groupby(['product_id'],sort=False,as_index=False)['helpful_votes'].sum()\n",
    "new_data = pd.merge(new_data,total_helpful_votes,on='product_id',how='left')\n",
    "new_data.columns = new_data.columns.str.replace(\"helpful_votes_x\",\"helpful_votes\").str.replace(\"helpful_votes_y\",\"total_helpful_votes\")\n",
    "new_data['helpfulness']=new_data['helpful_votes']/new_data['total_votes']\n",
    "new_data['popularity']=new_data['helpful_votes']/new_data['total_helpful_votes']\n",
    "new_data['score_continious'] = 0.7*new_data['helpfulness'] + 0.3*new_data['popularity']"
   ]
  },
  {
   "cell_type": "markdown",
   "metadata": {},
   "source": [
    "### Converting scores to binary (0-unhelpful, 1-helpful) and dropping reviews with ambiguous scores (close to 0.5)"
   ]
  },
  {
   "cell_type": "code",
   "execution_count": 9,
   "metadata": {
    "scrolled": true
   },
   "outputs": [
    {
     "data": {
      "text/html": [
       "<div>\n",
       "<style scoped>\n",
       "    .dataframe tbody tr th:only-of-type {\n",
       "        vertical-align: middle;\n",
       "    }\n",
       "\n",
       "    .dataframe tbody tr th {\n",
       "        vertical-align: top;\n",
       "    }\n",
       "\n",
       "    .dataframe thead th {\n",
       "        text-align: right;\n",
       "    }\n",
       "</style>\n",
       "<table border=\"1\" class=\"dataframe\">\n",
       "  <thead>\n",
       "    <tr style=\"text-align: right;\">\n",
       "      <th></th>\n",
       "      <th>customer_id</th>\n",
       "      <th>product_parent</th>\n",
       "      <th>star_rating</th>\n",
       "      <th>helpful_votes</th>\n",
       "      <th>total_votes</th>\n",
       "      <th>total_helpful_votes</th>\n",
       "      <th>helpfulness</th>\n",
       "      <th>popularity</th>\n",
       "      <th>score_continious</th>\n",
       "      <th>score_binary</th>\n",
       "    </tr>\n",
       "  </thead>\n",
       "  <tbody>\n",
       "    <tr>\n",
       "      <th>count</th>\n",
       "      <td>9.468500e+04</td>\n",
       "      <td>9.468500e+04</td>\n",
       "      <td>94685.000000</td>\n",
       "      <td>94685.000000</td>\n",
       "      <td>94685.000000</td>\n",
       "      <td>94685.000000</td>\n",
       "      <td>94685.000000</td>\n",
       "      <td>94685.000000</td>\n",
       "      <td>94685.000000</td>\n",
       "      <td>94685.000000</td>\n",
       "    </tr>\n",
       "    <tr>\n",
       "      <th>mean</th>\n",
       "      <td>3.409019e+07</td>\n",
       "      <td>5.045238e+08</td>\n",
       "      <td>3.533844</td>\n",
       "      <td>27.118878</td>\n",
       "      <td>31.860664</td>\n",
       "      <td>524.388974</td>\n",
       "      <td>0.786669</td>\n",
       "      <td>0.323144</td>\n",
       "      <td>0.647612</td>\n",
       "      <td>0.770808</td>\n",
       "    </tr>\n",
       "    <tr>\n",
       "      <th>std</th>\n",
       "      <td>1.499615e+07</td>\n",
       "      <td>2.877404e+08</td>\n",
       "      <td>1.610900</td>\n",
       "      <td>112.317610</td>\n",
       "      <td>116.245660</td>\n",
       "      <td>2033.433978</td>\n",
       "      <td>0.320074</td>\n",
       "      <td>0.346000</td>\n",
       "      <td>0.279271</td>\n",
       "      <td>0.420315</td>\n",
       "    </tr>\n",
       "    <tr>\n",
       "      <th>min</th>\n",
       "      <td>1.019000e+04</td>\n",
       "      <td>3.034600e+04</td>\n",
       "      <td>1.000000</td>\n",
       "      <td>1.000000</td>\n",
       "      <td>7.000000</td>\n",
       "      <td>2.000000</td>\n",
       "      <td>0.004878</td>\n",
       "      <td>0.000023</td>\n",
       "      <td>0.005769</td>\n",
       "      <td>0.000000</td>\n",
       "    </tr>\n",
       "    <tr>\n",
       "      <th>25%</th>\n",
       "      <td>2.000568e+07</td>\n",
       "      <td>2.545690e+08</td>\n",
       "      <td>2.000000</td>\n",
       "      <td>7.000000</td>\n",
       "      <td>9.000000</td>\n",
       "      <td>28.000000</td>\n",
       "      <td>0.750000</td>\n",
       "      <td>0.024938</td>\n",
       "      <td>0.701287</td>\n",
       "      <td>1.000000</td>\n",
       "    </tr>\n",
       "    <tr>\n",
       "      <th>50%</th>\n",
       "      <td>3.639575e+07</td>\n",
       "      <td>5.029799e+08</td>\n",
       "      <td>4.000000</td>\n",
       "      <td>10.000000</td>\n",
       "      <td>13.000000</td>\n",
       "      <td>96.000000</td>\n",
       "      <td>0.956522</td>\n",
       "      <td>0.198925</td>\n",
       "      <td>0.731788</td>\n",
       "      <td>1.000000</td>\n",
       "    </tr>\n",
       "    <tr>\n",
       "      <th>75%</th>\n",
       "      <td>4.908556e+07</td>\n",
       "      <td>7.589189e+08</td>\n",
       "      <td>5.000000</td>\n",
       "      <td>19.000000</td>\n",
       "      <td>25.000000</td>\n",
       "      <td>356.000000</td>\n",
       "      <td>1.000000</td>\n",
       "      <td>0.500000</td>\n",
       "      <td>0.809091</td>\n",
       "      <td>1.000000</td>\n",
       "    </tr>\n",
       "    <tr>\n",
       "      <th>max</th>\n",
       "      <td>5.309658e+07</td>\n",
       "      <td>9.999911e+08</td>\n",
       "      <td>5.000000</td>\n",
       "      <td>12786.000000</td>\n",
       "      <td>12944.000000</td>\n",
       "      <td>43090.000000</td>\n",
       "      <td>1.000000</td>\n",
       "      <td>1.000000</td>\n",
       "      <td>1.000000</td>\n",
       "      <td>1.000000</td>\n",
       "    </tr>\n",
       "  </tbody>\n",
       "</table>\n",
       "</div>"
      ],
      "text/plain": [
       "        customer_id  product_parent   star_rating  helpful_votes  \\\n",
       "count  9.468500e+04    9.468500e+04  94685.000000   94685.000000   \n",
       "mean   3.409019e+07    5.045238e+08      3.533844      27.118878   \n",
       "std    1.499615e+07    2.877404e+08      1.610900     112.317610   \n",
       "min    1.019000e+04    3.034600e+04      1.000000       1.000000   \n",
       "25%    2.000568e+07    2.545690e+08      2.000000       7.000000   \n",
       "50%    3.639575e+07    5.029799e+08      4.000000      10.000000   \n",
       "75%    4.908556e+07    7.589189e+08      5.000000      19.000000   \n",
       "max    5.309658e+07    9.999911e+08      5.000000   12786.000000   \n",
       "\n",
       "        total_votes  total_helpful_votes   helpfulness    popularity  \\\n",
       "count  94685.000000         94685.000000  94685.000000  94685.000000   \n",
       "mean      31.860664           524.388974      0.786669      0.323144   \n",
       "std      116.245660          2033.433978      0.320074      0.346000   \n",
       "min        7.000000             2.000000      0.004878      0.000023   \n",
       "25%        9.000000            28.000000      0.750000      0.024938   \n",
       "50%       13.000000            96.000000      0.956522      0.198925   \n",
       "75%       25.000000           356.000000      1.000000      0.500000   \n",
       "max    12944.000000         43090.000000      1.000000      1.000000   \n",
       "\n",
       "       score_continious  score_binary  \n",
       "count      94685.000000  94685.000000  \n",
       "mean           0.647612      0.770808  \n",
       "std            0.279271      0.420315  \n",
       "min            0.005769      0.000000  \n",
       "25%            0.701287      1.000000  \n",
       "50%            0.731788      1.000000  \n",
       "75%            0.809091      1.000000  \n",
       "max            1.000000      1.000000  "
      ]
     },
     "execution_count": 9,
     "metadata": {},
     "output_type": "execute_result"
    }
   ],
   "source": [
    "new_data['score_binary'] = pd.cut(new_data['score_continious'], bins=[0,0.3,0.7,1], labels=[0,2,1])\n",
    "new_data.dropna(inplace=True)\n",
    "new_data['score_binary'] = new_data['score_binary'].astype(int)\n",
    "new_data = new_data[new_data['score_binary'] != 2]\n",
    "new_data.describe()"
   ]
  },
  {
   "cell_type": "markdown",
   "metadata": {},
   "source": [
    "### The least helpful reviews"
   ]
  },
  {
   "cell_type": "code",
   "execution_count": 10,
   "metadata": {
    "scrolled": true
   },
   "outputs": [
    {
     "name": "stdout",
     "output_type": "stream",
     "text": [
      "to expensive\n",
      "*********\n",
      "Don't buy their cancellation headphones until they reverse the cancellation of the movie.It is time to show that we are not defined by September 11th. If we are defined by a date it is July 4th.  It means we will not be defined by fear. We are defined by our beliefs, and we believe in free speech.  We intend to see The Interview in the theater. We in Washington intend to see it legally stoned and laugh our asses off.\n",
      "*********\n",
      "Why on earth would they charge so much for a headset with a cord? Any gamer knows that the issue with a gaming headset is running over the cord and damaging the connection, which renders the headset (that is expensive) completely useless.<br /><br />The reviews state that the sound is incredible. I have to agree, but thats not the issue.<br /><br />You would think that if they were putting so much R&D into this item, they would have gone the extra mile.\n",
      "*********\n",
      "you should never get head aches from watching TRUE 3D at all. its the convertions that may give some a head ache but this is mostly do to a bad conversion. other reasons are color blindness *if you are you can NOT watch ANY anaglyph 3D movies but full color 3D should be watchable* with others its cross eye viewing, some cant cross there eye's so forcing this...even tho your eyes are not crossed it will hurt* another reason is some peoples eye's are farther apart or closer together so that does make a bit of a difference*  but watching 3D in the home is not the same as in the theater. theater 3D is true parallel 3D were as 3D in the home threw a passive or active 3D tv is ALWAYS cross eye 3d, witch btw puts more strain on your eye's. were as TRUE parallel 3d does not. the only problem is getting TRUE parallel 3d in your home is not even close to affordable. to do this you MUST buy a rear mounted projection *the projector is behind you and not behind the tv*......system and a silver screen, both of witch are not even close to cheap.  TRUE parallel 3D alternates between left and right scenes with different polarized filters on each left and right scenes, ONLY one picture at a time is displayed! and they move so fast back and forth that you see a 3D picture cause the glasses are the same way just the filters are on the opposing sides. 3D tv's don't work this way, passive 3D tv's are similar to theater 3D......but instead of 1 picture at a time the tv's display 2 at a time with different filters and the glasses are the same as theater glasses, BUT the pictures don't alternate, you see stereo 3D because the one picture is filtered for one eye to only see that one and same with the other, but at a cost....you loose the Hi DEF picture because both pictures are displayed at the same time....they get displayed at 540P and NOT 1080p. active 3D tv's work like this....they shift both pictures back and forth alternating from each other and the other way with the glasses to createa 3D effect. well this does produce a 1080p picture but at a cost as well.....you see cross eye just like the passive polarized 3D tv's....but you also get flicker if you DO NOT get a 240Hz refresh rate tv instead of a 120hz tv. witch will also cause eye strain because at 240hz both eyes see at 120hz per eye, at 120hz its 60hz per eye. so more flicker is involved with a 120hz than at 240hz, so you get way more eye strain.  over all these glasses are a BIG joke do to many reason. one is you can still go to see a move that is showing in 3D in 2D, 2nd you can buy 3D glasses just like these for less than $5 *so y are these $20?, 3rd you can turn off 3D at home.\n",
      "*********\n",
      "I received a Panasonic headphones instead of the Prestigo Universal Remote. When I contacted the vendor (Midway) they said they don't have the item. A real bummer!  It's always inconvenient to return any product you didn't even ordered. I am waiting on the credit back now.  Hope it's fast.\n",
      "*********\n",
      "far from the sound quality of the ones that come with the iPhone, this piece of junk has ridiculously high treble and no bass. It's a piece of crap. Airplane headphones are better than this and we all know how crappy those are!!\n",
      "*********\n",
      "i got this ipod when i was 13.I'm rich, so i also have a compaq ipaq,gba-sp,alienware comp,etc... I guess i liked the ipod, oh, i also have a sony aibo.My ipod was a good toy to add to my collection, no problems, but i will get a color screen mp3 player in the future. If it just had a color display.\n",
      "*********\n"
     ]
    }
   ],
   "source": [
    "for row in new_data[new_data['helpfulness']<0.01]['review_body']:\n",
    "    print(row+'\\n*********')"
   ]
  },
  {
   "cell_type": "markdown",
   "metadata": {},
   "source": [
    "### The longest review"
   ]
  },
  {
   "cell_type": "code",
   "execution_count": 62,
   "metadata": {},
   "outputs": [
    {
     "name": "stdout",
     "output_type": "stream",
     "text": [
      "Length: 50610\n",
      "This review is for: CyberPower PR750LCD 525W UPS<br /><br />OVERVIEW:<br />-----------<br /><br />The home and small office UPS models we'll compare are:<br /><br />- APC: SMT750, SMT1000<br />- APC: SMC1000, SMC1500<br />- CyberPower: CP850PFCLCD, CP1000PFCLCD, CP1350PFCLCD<br />- CyberPower: PR750LCD, PR1000LCD, PR1500LCD<br /><br />These all:<br /><br />(A) KEEP ELECTRICITY GOING DURING A BLACKOUT and give a computer TIME TO SAFELY AUTO-SHUTDOWN.<br /><br />(B) Produce a PURE SINE WAVE to work with power supplies with Active PFC, like those on most Apple Macs, lots of newer windows PCs, etc.<br /><br />(C) Cost in the low hundreds, so we avoid server room type features like zero transfer time, external batteries, etc.<br /><br />We'll compare:<br />- How long things run during a blackout (RUNTIME)<br />- The WATTS they handle<br />- NOISE<br />- OUTLET COUNT and how many have battery power<br /><br />We'll also compare:<br />- AVR CAPABILITY including BOOST and TRIM (explained later)<br />- RECHARGE TIME<br />- Size, cord length, other<br /><br />Okay, let's get started, I'm looking for two that are quiet, can shutdown Window PCs and Macs safely, have good runtime, and some other things.<br /><br />(1)<br />SOME DESCRIPTIVE<br />DIFFERENCES:<br />-------------------<br /><br />Model legend:<br />APC<br />A - SMT750<br />B - SMT1000<br />C - SMC1000<br />D - SMC1500<br />CyberPower<br />E - CP850PFCLCD<br />F - CP1000PFCLCD<br />G - CP1350PFCLCD<br />H - PR750LCD<br />I - PR1000LCD<br />J - PR1500LCD<br /><br />Feature legend:<br />AmpHr - Each Battery's Ampere Hour<br />B - Number Batteries<br />R - Recharge Time<br />S - Footprint (Square inches)<br />W - Weight (lbs.)<br />F - Fan (Yes/No)<br />G - More generator friendly (Yes/No)<br />N - Novice user friendly (Yes/No)<br /><br />Here are some descriptive differences between the models<br />I summarize in a manner I hope helps to compare.<br /><br />__Watt_AmpHr_B_R______WxHxD_____S_W_F_G_N_Outlets<br /><br />A\n"
     ]
    }
   ],
   "source": [
    "maxlen=-1\n",
    "for doc in new_data[\"review_body\"]:\n",
    "    if maxlen<len(doc):\n",
    "        maxlen=len(doc)\n",
    "        maxdoc=doc\n",
    "print('Length:',maxlen)\n",
    "print(maxdoc[:2000])"
   ]
  },
  {
   "cell_type": "markdown",
   "metadata": {},
   "source": [
    "### Score vs. length of the reviews"
   ]
  },
  {
   "cell_type": "code",
   "execution_count": 12,
   "metadata": {},
   "outputs": [
    {
     "data": {
      "image/png": "[encoded data removed]",
      "text/plain": [
       "<Figure size 720x360 with 1 Axes>"
      ]
     },
     "metadata": {
      "needs_background": "light"
     },
     "output_type": "display_data"
    }
   ],
   "source": [
    "new_data['body_len'] = new_data.loc[:,'review_body'].apply(lambda x: len(str(x)) - str(x).count(\" \"))\n",
    "\n",
    "bins = np.linspace(0, 200, 40)\n",
    "plt.figure(figsize=(10, 5))\n",
    "plt.hist(new_data[new_data['score_binary']==1]['body_len'], bins, alpha=0.5, normed=True, label='Score 1')\n",
    "plt.hist(new_data[new_data['score_binary']==0]['body_len'], bins, alpha=0.5, normed=True, label='Score 0')\n",
    "plt.legend(loc='upper left')\n",
    "plt.title('Review Length', fontsize=20)\n",
    "plt.show()"
   ]
  },
  {
   "cell_type": "markdown",
   "metadata": {},
   "source": [
    "### Review score vs. star rating given by the reviewer"
   ]
  },
  {
   "cell_type": "code",
   "execution_count": 13,
   "metadata": {},
   "outputs": [
    {
     "data": {
      "image/png": "[encoded data removed]",
      "text/plain": [
       "<Figure size 720x360 with 1 Axes>"
      ]
     },
     "metadata": {
      "needs_background": "light"
     },
     "output_type": "display_data"
    }
   ],
   "source": [
    "new_data.groupby('score_binary')['star_rating'].value_counts().unstack(level=1).plot.bar(figsize=(10,5))\n",
    "plt.ylabel('Star rating count', fontsize=12)\n",
    "plt.xlabel('Review score', fontsize=12)\n",
    "plt.title('Star Rating', fontsize=20)\n",
    "plt.show()"
   ]
  },
  {
   "cell_type": "markdown",
   "metadata": {},
   "source": [
    "### Selecting a random subset of 15,000 reviews per each score"
   ]
  },
  {
   "cell_type": "code",
   "execution_count": 14,
   "metadata": {},
   "outputs": [],
   "source": [
    "reviews = new_data[['review_body','score_binary']]\n",
    "\n",
    "r1=reviews[reviews['score_binary']==0].sample(n=15000, random_state=16)\n",
    "r2=reviews[reviews['score_binary']==1].sample(n=15000, random_state=16)\n",
    "reviews = pd.concat([r1,r2], ignore_index=True,axis=0)"
   ]
  },
  {
   "cell_type": "markdown",
   "metadata": {},
   "source": [
    "# Text Preprocessing"
   ]
  },
  {
   "cell_type": "markdown",
   "metadata": {},
   "source": [
    "### Selecting stopwords"
   ]
  },
  {
   "cell_type": "code",
   "execution_count": 15,
   "metadata": {},
   "outputs": [
    {
     "name": "stdout",
     "output_type": "stream",
     "text": [
      "['i', 'me', 'my', 'myself', 'we', 'our', 'ours', 'ourselves', 'you', \"you're\", \"you've\", \"you'll\", \"you'd\", 'your', 'yours', 'yourself', 'yourselves', 'he', 'him', 'his', 'himself', 'she', \"she's\", 'her', 'hers', 'herself', 'it', \"it's\", 'its', 'itself', 'they', 'them', 'their', 'theirs', 'themselves', 'what', 'which', 'who', 'whom', 'this', 'that', \"that'll\", 'these', 'those', 'am', 'is', 'are', 'was', 'were', 'be', 'been', 'being', 'have', 'has', 'had', 'having', 'do', 'does', 'did', 'doing', 'a', 'an', 'the', 'and', 'but', 'if', 'or', 'because', 'as', 'until', 'while', 'of', 'at', 'by', 'for', 'with', 'about', 'against', 'between', 'into', 'through', 'during', 'before', 'after', 'above', 'below', 'to', 'from', 'up', 'down', 'in', 'out', 'on', 'off', 'over', 'under', 'again', 'further', 'then', 'once', 'here', 'there', 'when', 'where', 'why', 'how', 'all', 'any', 'both', 'each', 'few', 'more', 'most', 'other', 'some', 'such', 'no', 'nor', 'not', 'only', 'own', 'same', 'so', 'than', 'too', 'very', 's', 't', 'can', 'will', 'just', 'don', \"don't\", 'should', \"should've\", 'now', 'd', 'll', 'm', 'o', 're', 've', 'y', 'ain', 'aren', \"aren't\", 'couldn', \"couldn't\", 'didn', \"didn't\", 'doesn', \"doesn't\", 'hadn', \"hadn't\", 'hasn', \"hasn't\", 'haven', \"haven't\", 'isn', \"isn't\", 'ma', 'mightn', \"mightn't\", 'mustn', \"mustn't\", 'needn', \"needn't\", 'shan', \"shan't\", 'shouldn', \"shouldn't\", 'wasn', \"wasn't\", 'weren', \"weren't\", 'won', \"won't\", 'wouldn', \"wouldn't\"]\n"
     ]
    }
   ],
   "source": [
    "stopwords = nltk.corpus.stopwords.words('english')\n",
    "print(stopwords)"
   ]
  },
  {
   "cell_type": "code",
   "execution_count": 16,
   "metadata": {},
   "outputs": [],
   "source": [
    "stop = ['am', 'is', 'are', 'was', 'were', 'be', 'been', 'being', 'have', 'has', 'had', 'having', 'do', 'does', 'did', \n",
    "        'doing', 'a', 'an', 'the', 'and', 'to', 'of', 'at', 'for', 'by', 's', 't', 'will', 'would', 'wo', 'd', 'll', 'm',\n",
    "        'o', 're', 've', 'y', 'to', 'ai', '']"
   ]
  },
  {
   "cell_type": "markdown",
   "metadata": {},
   "source": [
    "### Cleaning text"
   ]
  },
  {
   "cell_type": "code",
   "execution_count": 17,
   "metadata": {},
   "outputs": [],
   "source": [
    "def clean_text(text):\n",
    "    text = re.sub('<.*?>', ' ', text)\n",
    "    text = re.sub('&#34;', ' ', text)\n",
    "    text = re.sub(\"n't \", ' not ', text)\n",
    "    text = re.sub(\"n' \", ' not' , text)\n",
    "    text = re.sub(\" ca \", ' can ', text)\n",
    "    text = re.sub('\\d+', ' 0 ', text)\n",
    "    text = re.sub('[!\"#$%&\\'()*+,-./:;<=>?@[\\\\]^_`{|}~]', ' ', text)\n",
    "    text = \"\".join([word.lower() for word in text if word not in string.punctuation])\n",
    "    tokens = re.split('\\W+', text)\n",
    "    text = \" \".join([word for word in tokens if word not in stop])\n",
    "    return text"
   ]
  },
  {
   "cell_type": "code",
   "execution_count": 18,
   "metadata": {
    "scrolled": true
   },
   "outputs": [
    {
     "name": "stdout",
     "output_type": "stream",
     "text": [
      "Havent purchased a set yet, but I read the reviews while trying to decide on whether or not to take a chance. Knowing you only get what you pay for these are my real world thoughts that i think will help others considering these speakers.<br /><br />1. Bass output has a direct relashoship to the wieght of the speaker. The speakers vibrates to make sound as the cone moves back and forth. A light speaker will move and vibrate in a way that takes energy away from the movement of the cone thus affecting bass output. The specs on these speakers say they are 55lbs, divide that by 5 speakers and no speaker will weight more than 15 or so pounds including the floor standing speakers. With that said this isnt a set up for loud bass heavy music.<br /><br />2. these are 6ohm speakers with means they have less resistance to an electrical input. One reviewer said you have to change your reciever to accomondate the 6ohm load. Most recievers dont have the capability to change the load on a set of speakers, if it does it is probably very high end and you should be looking for a higher quality speaker to match the high quality receiver.<br /><br />3. because of the 6ohm load the amplifier in your reciever will run hotter, and lets say for instance your reciever puts out 100 watts at 8ohms, with the 6 ohm speaker it will output 125 watts or at least thats what the speaker will see or feel. This extra power comes at a price because your amplifiers will run hotter, and will in some cases shorten the life of the amps, and cause your reciever to shut off after long periods due to heat.<br /><br />4. KLIPSH may own the company that makes these speakers but do you really think they would make a speaker that will compete with or sound better than thier bread and butter brand? I dont think so! These are designed to be a low cost speaker for people who are on a tight budget, many compromises where made in order to make them low cost. When buying these speakers keep in mind that wou will notice these compromises over the life of the product. Cheaper components mean thinner wood baffles, lower cost tweeters and mids that may not last as long or may blow easily so be careful when turning up the volume.<br /><br />5. With that in mind these speakers along with a good subwoofer will be fine for home theater usage, and music if you play it moderately. If you want to party and bump some sounds spend more money for a product that will handle the higher volume and bass because you will likely be unsatisfied with these.<br /><br />I little background on me:<br /><br />I have been a music lover since the early 70's, I have owned RTR's that I purchased in Germany, Yamaha and Technique that I bought in Japan. Cerwin Vega, Infinity and countless others that I bought here in the good ole USA. I listen to Jazz, Rock, R&B and Rap. I like it LOUD, but I have to have the fine details. Every room in my house has some kind of sound system in it JVC (Japan Victor Corp) in the kitchen, Sony in the living room Creative (soundblaster) in the office, Audio Authority on my gaming computer and my favorite in the bedroom is a old school Fisher 5.1 reciever from back in like 1990 something pushing Polk bookshelf speakers.these compromises over the life of the product. Cheaper components mean thinner wood baffles, lower cost tweeters and mids that may not last as long or may blow easily so be careful when turning up the volume.<br /><br />5. With that in mind these speakers along with a good subwoofer will be fine for home theater usage, and music if you play it moderately. If you want to party and bump some sounds spend more money for a product that will handle the higher volume and bass because you will likely be unsatisfied with these.<br /><br />I little background on me:<br /><br />I have been a music lover since the early 70's, I have owned RTR's that I purchased in Germany, Yamaha and Technique that I bought in Japan. Cerwin Vega, Infinity and countless others that I bought here in the good ole USA. I listen to Jazz, Rock, R&B and Rap. I like it LOUD, but I have to have the fine details. Every room in my house has some kind of sound system in it JVC (Japan Victor Corp) in the kitchen, Sony in the living room Creative (soundblaster) in the office, Audio Authority on my gaming computer and my favorite in the bedroom is a old school Fisher 5.1 reciever from back in like 1990 something pushing Polk bookshelf speakers.\n",
      "*****\n",
      "havent purchased set yet but i read reviews while trying decide on whether or not take chance knowing you only get what you pay these my real world thoughts that i think help others considering these speakers 0 bass output direct relashoship wieght speaker speakers vibrates make sound as cone moves back forth light speaker move vibrate in way that takes energy away from movement cone thus affecting bass output specs on these speakers say they 0 lbs divide that 0 speakers no speaker weight more than 0 or so pounds including floor standing speakers with that said this isnt set up loud bass heavy music 0 these 0 ohm speakers with means they less resistance electrical input one reviewer said you change your reciever accomondate 0 ohm load most recievers dont capability change load on set speakers if it it probably very high end you should looking higher quality speaker match high quality receiver 0 because 0 ohm load amplifier in your reciever run hotter lets say instance your reciever puts out 0 watts 0 ohms with 0 ohm speaker it output 0 watts or least thats what speaker see or feel this extra power comes price because your amplifiers run hotter in some cases shorten life amps cause your reciever shut off after long periods due heat 0 klipsh may own company that makes these speakers but you really think they make speaker that compete with or sound better than thier bread butter brand i dont think so these designed low cost speaker people who on tight budget many compromises where made in order make them low cost when buying these speakers keep in mind that wou notice these compromises over life product cheaper components mean thinner wood baffles lower cost tweeters mids that may not last as long or may blow easily so careful when turning up volume 0 with that in mind these speakers along with good subwoofer fine home theater usage music if you play it moderately if you want party bump some sounds spend more money product that handle higher volume bass because you likely unsatisfied with these i little background on me i music lover since early 0 i owned rtr that i purchased in germany yamaha technique that i bought in japan cerwin vega infinity countless others that i bought here in good ole usa i listen jazz rock r b rap i like it loud but i fine details every room in my house some kind sound system in it jvc japan victor corp in kitchen sony in living room creative soundblaster in office audio authority on my gaming computer my favorite in bedroom old school fisher 0 0 reciever from back in like 0 something pushing polk bookshelf speakers these compromises over life product cheaper components mean thinner wood baffles lower cost tweeters mids that may not last as long or may blow easily so careful when turning up volume 0 with that in mind these speakers along with good subwoofer fine home theater usage music if you play it moderately if you want party bump some sounds spend more money product that handle higher volume bass because you likely unsatisfied with these i little background on me i music lover since early 0 i owned rtr that i purchased in germany yamaha technique that i bought in japan cerwin vega infinity countless others that i bought here in good ole usa i listen jazz rock r b rap i like it loud but i fine details every room in my house some kind sound system in it jvc japan victor corp in kitchen sony in living room creative soundblaster in office audio authority on my gaming computer my favorite in bedroom old school fisher 0 0 reciever from back in like 0 something pushing polk bookshelf speakers\n"
     ]
    }
   ],
   "source": [
    "review = reviews.review_body.iloc[0]\n",
    "print(review)\n",
    "print('*****')\n",
    "review = clean_text(review)\n",
    "print(review)"
   ]
  },
  {
   "cell_type": "code",
   "execution_count": 19,
   "metadata": {},
   "outputs": [],
   "source": [
    "reviews['review_body'] = reviews['review_body'].apply(lambda x: clean_text(str(x)))"
   ]
  },
  {
   "cell_type": "markdown",
   "metadata": {},
   "source": [
    "### Stemming cleaned text in a separate column"
   ]
  },
  {
   "cell_type": "code",
   "execution_count": 20,
   "metadata": {},
   "outputs": [],
   "source": [
    "ps = nltk.PorterStemmer()\n",
    "\n",
    "def stem_cleaned_text(text):\n",
    "    tokens = text.split()\n",
    "    text = \" \".join([ps.stem(word) for word in tokens])\n",
    "    return text"
   ]
  },
  {
   "cell_type": "code",
   "execution_count": 21,
   "metadata": {},
   "outputs": [],
   "source": [
    "reviews['review_body_stemmed'] = reviews['review_body'].apply(lambda x: stem_cleaned_text(str(x)))"
   ]
  },
  {
   "cell_type": "markdown",
   "metadata": {},
   "source": [
    "### Finding and merging important collocations in a separate column"
   ]
  },
  {
   "cell_type": "code",
   "execution_count": 22,
   "metadata": {
    "scrolled": true
   },
   "outputs": [
    {
     "name": "stdout",
     "output_type": "stream",
     "text": [
      "[('sound', 'quality'), ('asin', 'b'), ('better', 'than'), ('as', 'well'), ('customer', 'service'), ('there', 'no'), ('more', 'than'), ('battery', 'life'), ('can', 'not'), ('home', 'theater'), ('blu', 'ray'), ('set', 'up'), ('not', 'work'), ('less', 'than'), ('cd', 'player'), ('comes', 'with'), ('highly', 'recommend'), ('make', 'sure'), ('could', 'not'), ('so', 'far'), ('much', 'better'), ('very', 'good'), ('ear', 'buds'), ('happy', 'with'), ('high', 'end'), ('such', 'as'), ('alarm', 'clock'), ('even', 'though'), ('built', 'in'), ('build', 'quality'), ('remote', 'control'), ('noise', 'cancelling'), ('surge', 'protector'), ('living', 'room'), ('surround', 'sound'), ('based', 'on'), ('too', 'much'), ('stopped', 'working'), ('easy', 'use'), ('more', 'expensive'), ('dvd', 'player'), ('bottom', 'line'), ('come', 'with'), ('hard', 'drive'), ('ended', 'up'), ('very', 'happy'), ('usb', 'port'), ('figure', 'out'), ('not', 'know'), ('year', 'old'), ('rather', 'than'), ('pick', 'up'), ('years', 'ago'), ('not', 'even'), ('works', 'great'), ('noise', 'cancellation'), ('no', 'longer'), ('ipod', 'touch'), ('volume', 'control'), ('not', 'buy'), ('fm', 'radio'), ('power', 'supply'), ('high', 'quality'), ('noise', 'canceling'), ('headphone', 'jack'), ('amazon', 'com'), ('hooked', 'up'), ('out', 'box'), ('tech', 'support'), ('came', 'with'), ('from', 'amazon'), ('pretty', 'good'), ('well', 'as'), ('very', 'well'), ('drag', 'drop'), ('media', 'player'), ('price', 'range'), ('much', 'more'), ('sd', 'card'), ('mid', 'range'), ('wi', 'fi'), ('pleased', 'with'), ('so', 'much'), ('windows', 'media'), ('on', 'top'), ('away', 'from'), ('any', 'other'), ('after', 'reading'), ('crystal', 'clear'), ('on', 'amazon'), ('highly', 'recommended'), ('cell', 'phone'), ('out', 'there'), ('along', 'with'), ('in', 'fact'), ('tripp', 'lite'), ('ipod', 'nano'), ('hdmi', 'cable'), ('low', 'end'), ('hip', 'hop'), ('sub', 'woofer'), ('very', 'pleased'), ('in', 'order'), ('difference', 'between'), ('hook', 'up'), ('audio', 'technica'), ('big', 'deal'), ('brand', 'new'), ('center', 'channel'), ('plugged', 'into'), ('clock', 'radio'), ('user', 'friendly'), ('plugged', 'in'), ('no', 'matter'), ('long', 'time'), ('listen', 'music'), ('not', 'want'), ('every', 'time'), ('depending', 'on'), ('turn', 'off'), ('radio', 'shack'), ('as', 'good'), ('very', 'nice'), ('altec', 'lansing'), ('not', 'sure'), ('fm', 'tuner'), ('ac', 'adapter'), ('creative', 'zen'), ('can', 'get'), ('harman', 'kardon'), ('other', 'than'), ('listening', 'music'), ('no', 'problems'), ('ear', 'canal'), ('sony', 'mdr'), ('know', 'how'), ('web', 'site'), ('in', 'addition'), ('in', 'terms'), ('very', 'easy'), ('not', 'get'), ('something', 'else'), ('turn', 'on'), ('works', 'well'), ('first', 'time'), ('customer', 'support'), ('pretty', 'much'), ('few', 'days'), ('frequency', 'response'), ('aa', 'batteries'), ('looks', 'like'), ('carrying', 'case'), ('bass', 'response'), ('just', 'fine'), ('works', 'fine'), ('how', 'much'), ('piece', 'junk'), ('other', 'reviewers'), ('worry', 'about'), ('waste', 'money'), ('as', 'advertised'), ('work', 'with'), ('anything', 'else'), ('no', 'way'), ('other', 'reviews'), ('can', 'hear'), ('no', 'problem'), ('usb', 'cable'), ('price', 'point'), ('back', 'forth'), ('sounds', 'great'), ('coming', 'from'), ('problem', 'with'), ('problems', 'with'), ('star', 'rating'), ('cable', 'box'), ('buyer', 'beware'), ('best', 'buy'), ('on', 'market'), ('satisfied', 'with'), ('impressed', 'with'), ('http', 'www'), ('months', 'ago'), ('but', 'not'), ('few', 'months'), ('far', 'as'), ('needless', 'say'), ('hdmi', 'cables'), ('worth', 'money'), ('rechargeable', 'batteries'), ('as', 'far'), ('most', 'people'), ('left', 'right'), ('great', 'sound'), ('internet', 'radio'), ('in', 'middle'), ('loud', 'enough'), ('picked', 'up'), ('v', 'moda'), ('worked', 'fine'), ('not', 'not'), ('pleasantly', 'surprised'), ('in', 'ear'), ('bookshelf', 'speakers'), ('user', 'interface'), ('ray', 'player'), ('very', 'disappointed'), ('blown', 'away'), ('same', 'time'), ('feel', 'like'), ('not', 'worth'), ('never', 'heard'), ('touch', 'screen'), ('without', 'any'), ('light', 'weight'), ('soon', 'as'), ('fully', 'charged'), ('only', 'thing'), ('all', 'way'), ('with', 'no'), ('as', 'soon'), ('wake', 'up'), ('stay', 'away'), ('little', 'bit'), ('pair', 'headphones'), ('signal', 'strength'), ('technical', 'support'), ('hi', 'fi'), ('over', 'ear'), ('so', 'many'), ('in', 'mind'), ('good', 'as'), ('mids', 'highs'), ('two', 'weeks'), ('credit', 'card'), ('very', 'comfortable'), ('non', 'existent'), ('wall', 'mount'), ('few', 'weeks'), ('plug', 'in'), ('ear', 'headphones'), ('sound', 'great'), ('speaker', 'system'), ('side', 'side'), ('see', 'if'), ('as', 'long'), ('heavy', 'duty'), ('power', 'cord'), ('little', 'more'), ('sound', 'bar'), ('in', 'future'), ('return', 'policy'), ('aaa', 'batteries'), ('gold', 'plated'), ('top', 'notch'), ('docking', 'station'), ('in', 'past'), ('turned', 'off'), ('live', 'in'), ('bells', 'whistles'), ('not', 'really'), ('buy', 'another'), ('long', 'as'), ('well', 'worth'), ('in', 'place'), ('every', 'day'), ('next', 'day'), ('not', 'think'), ('home', 'theatre'), ('not', 'recommend'), ('b', 'w'), ('few', 'minutes'), ('see', 'how'), ('feet', 'away'), ('play', 'pause'), ('ease', 'use'), ('compatible', 'with'), ('per', 'channel'), ('bass', 'treble'), ('fast', 'forward'), ('as', 'much'), ('even', 'if'), ('e', 'g'), ('no', 'idea'), ('several', 'times'), ('only', 'one'), ('some', 'people'), ('some', 'other'), ('positive', 'reviews'), ('product', 'description'), ('e', 'mail'), ('turned', 'on'), ('well', 'made'), ('good', 'luck'), ('bass', 'boost'), ('deal', 'breaker'), ('not', 'seem'), ('right', 'away'), ('firmware', 'update'), ('head', 'phones')]\n"
     ]
    }
   ],
   "source": [
    "split = reviews['review_body'].apply(lambda x: x.split())\n",
    "unlist_reviews = [item for items in split for item in items]\n",
    "\n",
    "blacklist = ['i', 'me', 'my', 'myself', 'we', 'our', 'ours', 'ourselves', 'you', 'your', 'yours', 'yourself', 'yourselves', \n",
    "             'he', 'him', 'his', 'himself', 'she', 'her', 'hers', 'herself', 'it', 'its', 'itself', 'they', 'them', 'their',\n",
    "             'theirs', 'themselves', 'what', 'which', 'who', 'whom', 'this', 'that', 'these', 'those', '0']\n",
    "\n",
    "from nltk.collocations import BigramCollocationFinder \n",
    "from nltk.metrics import BigramAssocMeasures \n",
    "bigram_measures = nltk.collocations.BigramAssocMeasures()\n",
    "\n",
    "biagram_collocation = BigramCollocationFinder.from_words(unlist_reviews)\n",
    "biagram_collocation.apply_word_filter(lambda w: w in blacklist)\n",
    "colls = biagram_collocation.nbest(BigramAssocMeasures.likelihood_ratio, 300)\n",
    "print(colls)"
   ]
  },
  {
   "cell_type": "code",
   "execution_count": 23,
   "metadata": {},
   "outputs": [],
   "source": [
    "def apply_collocations(text, colls):\n",
    "    for c1, c2 in colls:\n",
    "        text = text.replace(\"%s %s\" % (c1, c2), \"%s_%s\" % (c1, c2))\n",
    "    return text\n",
    "\n",
    "reviews['review_body_collocations'] = reviews['review_body'].apply(lambda x: apply_collocations(x, colls))"
   ]
  },
  {
   "cell_type": "code",
   "execution_count": 24,
   "metadata": {
    "scrolled": true
   },
   "outputs": [
    {
     "name": "stdout",
     "output_type": "stream",
     "text": [
      "ordered roku box linksys router bluerigger premium hdmi cable needed all 0 hook up work received roku box linksys router within 0 days not receive cable 0 days later could not use system wait i reccomend better shipping method because this not good\n",
      "*****\n",
      "ordered roku box linksys router bluerigger premium hdmi_cable needed all 0 hook_up work received roku box linksys router within 0 days not receive cable 0 days later could_not use system wait i reccomend better shipping method because this not good\n"
     ]
    }
   ],
   "source": [
    "print(reviews.review_body.iloc[4])\n",
    "print('*****')\n",
    "print(reviews.review_body_collocations.iloc[4])"
   ]
  },
  {
   "cell_type": "markdown",
   "metadata": {},
   "source": [
    "# Train Test Split"
   ]
  },
  {
   "cell_type": "code",
   "execution_count": 25,
   "metadata": {},
   "outputs": [],
   "source": [
    "from sklearn.model_selection import train_test_split\n",
    "X_train, X_test, y_train, y_test = train_test_split(reviews[['review_body','review_body_stemmed','review_body_collocations']],\n",
    "                                                    reviews['score_binary'], stratify=reviews['score_binary'],\n",
    "                                                    test_size=0.2, random_state=16)"
   ]
  },
  {
   "cell_type": "code",
   "execution_count": 26,
   "metadata": {},
   "outputs": [
    {
     "name": "stdout",
     "output_type": "stream",
     "text": [
      "(24000, 3)\n",
      "(6000, 3)\n"
     ]
    }
   ],
   "source": [
    "print(X_train.shape)\n",
    "print(X_test.shape)"
   ]
  },
  {
   "cell_type": "markdown",
   "metadata": {},
   "source": [
    "# TF-IDF Vectorizer"
   ]
  },
  {
   "cell_type": "markdown",
   "metadata": {},
   "source": [
    "### TF-IDF + SVD on Text"
   ]
  },
  {
   "cell_type": "code",
   "execution_count": 27,
   "metadata": {},
   "outputs": [],
   "source": [
    "from sklearn.feature_extraction.text import TfidfVectorizer\n",
    "from sklearn.decomposition import TruncatedSVD\n",
    "\n",
    "tfidf_vect = TfidfVectorizer(ngram_range=(1,1), max_features=10000)\n",
    "tfidf_vect_fit = tfidf_vect.fit(X_train['review_body'])\n",
    "\n",
    "tfidf_train = tfidf_vect_fit.transform(X_train['review_body'])\n",
    "tfidf_test = tfidf_vect_fit.transform(X_test['review_body'])\n",
    "\n",
    "svd = TruncatedSVD(n_components=100, n_iter=50).fit(tfidf_train)\n",
    "svd_train = svd.transform(tfidf_train)\n",
    "svd_test = svd.transform(tfidf_test)"
   ]
  },
  {
   "cell_type": "markdown",
   "metadata": {},
   "source": [
    "### Bigram TF-IDF + SVD on Text"
   ]
  },
  {
   "cell_type": "code",
   "execution_count": 28,
   "metadata": {},
   "outputs": [],
   "source": [
    "tfidf_vect = TfidfVectorizer(ngram_range=(2,2), max_features=10000)\n",
    "tfidf_bigram_fit = tfidf_vect.fit(X_train['review_body'])\n",
    "\n",
    "tfidf_bigram_train = tfidf_bigram_fit.transform(X_train['review_body'])\n",
    "tfidf_bigram_test = tfidf_bigram_fit.transform(X_test['review_body'])\n",
    "\n",
    "svd_bigram = TruncatedSVD(n_components=100, n_iter=50).fit(tfidf_bigram_train)\n",
    "svd_bigram_train = svd_bigram.transform(tfidf_bigram_train)\n",
    "svd_bigram_test = svd_bigram.transform(tfidf_bigram_test)"
   ]
  },
  {
   "cell_type": "markdown",
   "metadata": {},
   "source": [
    "### TF-IDF + SVD on Stemmed Text"
   ]
  },
  {
   "cell_type": "code",
   "execution_count": 29,
   "metadata": {},
   "outputs": [],
   "source": [
    "tfidf_vect = TfidfVectorizer(ngram_range=(1,1), max_features=10000)\n",
    "tfidf_stem_fit = tfidf_vect.fit(X_train['review_body_stemmed'])\n",
    "\n",
    "tfidf_stem_train = tfidf_stem_fit.transform(X_train['review_body_stemmed'])\n",
    "tfidf_stem_test = tfidf_stem_fit.transform(X_test['review_body_stemmed'])\n",
    "\n",
    "svd_stem = TruncatedSVD(n_components=100, n_iter=50).fit(tfidf_stem_train)\n",
    "svd_stem_train = svd_stem.transform(tfidf_stem_train)\n",
    "svd_stem_test = svd_stem.transform(tfidf_stem_test)"
   ]
  },
  {
   "cell_type": "markdown",
   "metadata": {},
   "source": [
    "### TF-IDF + SVD on Text with Collocations"
   ]
  },
  {
   "cell_type": "code",
   "execution_count": 30,
   "metadata": {},
   "outputs": [],
   "source": [
    "tfidf_vect = TfidfVectorizer(ngram_range=(1,1), max_features=10000)\n",
    "tfidf_colls_fit = tfidf_vect.fit(X_train['review_body_collocations'])\n",
    "\n",
    "tfidf_colls_train = tfidf_colls_fit.transform(X_train['review_body_collocations'])\n",
    "tfidf_colls_test = tfidf_colls_fit.transform(X_test['review_body_collocations'])\n",
    "\n",
    "svd_colls = TruncatedSVD(n_components=100, n_iter=50).fit(tfidf_colls_train)\n",
    "svd_colls_train = svd_colls.transform(tfidf_colls_train)\n",
    "svd_colls_test = svd_colls.transform(tfidf_colls_test)"
   ]
  },
  {
   "cell_type": "markdown",
   "metadata": {},
   "source": [
    "## TF-IDF Evaluation"
   ]
  },
  {
   "cell_type": "markdown",
   "metadata": {},
   "source": [
    "### Baseline Score (Random Forest)"
   ]
  },
  {
   "cell_type": "code",
   "execution_count": 31,
   "metadata": {},
   "outputs": [],
   "source": [
    "from sklearn.metrics import confusion_matrix, accuracy_score, precision_score, recall_score, f1_score\n",
    "\n",
    "def scores(y_test, y_predict):\n",
    "    accuracy = accuracy_score(y_test, y_predict)\n",
    "    precision = precision_score(y_test, y_predict)\n",
    "    recall = recall_score(y_test, y_predict)\n",
    "    fscore = f1_score(y_test, y_predict)\n",
    "    print('\\n', confusion_matrix(y_test,y_predict),\n",
    "          '   Accuracy:', round(accuracy, 3),\n",
    "          ' /   Precision:', round(precision, 3),\n",
    "          ' /   Recall:', round(recall, 3),\n",
    "          ' /   F1:', round(fscore, 3))"
   ]
  },
  {
   "cell_type": "code",
   "execution_count": 32,
   "metadata": {},
   "outputs": [
    {
     "name": "stdout",
     "output_type": "stream",
     "text": [
      "\n",
      " [[1524 1476]\n",
      " [1565 1435]]    Accuracy: 0.493  /   Precision: 0.493  /   Recall: 0.478  /   F1: 0.486\n"
     ]
    }
   ],
   "source": [
    "from sklearn.ensemble import RandomForestClassifier\n",
    "rf = RandomForestClassifier(n_jobs=-1, random_state=16)\n",
    "\n",
    "y_test_shuffle = y_test.sample(frac=1).reset_index(drop=True)\n",
    "\n",
    "rf_model = rf.fit(svd_train, y_train)\n",
    "y_pred_baseline = rf_model.predict(svd_test)\n",
    "\n",
    "scores(y_test_shuffle, y_pred_baseline)"
   ]
  },
  {
   "cell_type": "markdown",
   "metadata": {},
   "source": [
    "### TF-IDF + SVD on Text (Random Forest)"
   ]
  },
  {
   "cell_type": "code",
   "execution_count": 33,
   "metadata": {},
   "outputs": [
    {
     "name": "stdout",
     "output_type": "stream",
     "text": [
      "\n",
      " [[2293  707]\n",
      " [ 796 2204]]    Accuracy: 0.75  /   Precision: 0.757  /   Recall: 0.735  /   F1: 0.746\n"
     ]
    }
   ],
   "source": [
    "rf = RandomForestClassifier(n_jobs=-1, random_state=16)\n",
    "\n",
    "rf_model = rf.fit(svd_train, y_train)\n",
    "y_pred_rf = rf_model.predict(svd_test)\n",
    "\n",
    "scores(y_test, y_pred_rf)"
   ]
  },
  {
   "cell_type": "markdown",
   "metadata": {},
   "source": [
    "### Bigram TF-IDF + SVD on Text (Random Forest)"
   ]
  },
  {
   "cell_type": "code",
   "execution_count": 34,
   "metadata": {},
   "outputs": [
    {
     "name": "stdout",
     "output_type": "stream",
     "text": [
      "\n",
      " [[2191  809]\n",
      " [ 862 2138]]    Accuracy: 0.722  /   Precision: 0.725  /   Recall: 0.713  /   F1: 0.719\n"
     ]
    }
   ],
   "source": [
    "rf_model = rf.fit(svd_bigram_train, y_train)\n",
    "y_pred_rf = rf_model.predict(svd_bigram_test)\n",
    "\n",
    "scores(y_test, y_pred_rf)"
   ]
  },
  {
   "cell_type": "markdown",
   "metadata": {},
   "source": [
    "### TF-IDF + SVD on Text with Collocations (Random Forest)"
   ]
  },
  {
   "cell_type": "code",
   "execution_count": 35,
   "metadata": {},
   "outputs": [
    {
     "name": "stdout",
     "output_type": "stream",
     "text": [
      "\n",
      " [[2267  733]\n",
      " [ 765 2235]]    Accuracy: 0.75  /   Precision: 0.753  /   Recall: 0.745  /   F1: 0.749\n"
     ]
    }
   ],
   "source": [
    "rf_model = rf.fit(svd_colls_train, y_train)\n",
    "y_pred_rf = rf_model.predict(svd_colls_test)\n",
    "\n",
    "scores(y_test, y_pred_rf)"
   ]
  },
  {
   "cell_type": "markdown",
   "metadata": {},
   "source": [
    "### TF-IDF + SVD on Stemmed Text (Random Forest)"
   ]
  },
  {
   "cell_type": "code",
   "execution_count": 36,
   "metadata": {},
   "outputs": [
    {
     "name": "stdout",
     "output_type": "stream",
     "text": [
      "\n",
      " [[2247  753]\n",
      " [ 770 2230]]    Accuracy: 0.746  /   Precision: 0.748  /   Recall: 0.743  /   F1: 0.745\n"
     ]
    }
   ],
   "source": [
    "rf_model = rf.fit(svd_stem_train, y_train)\n",
    "y_pred_rf = rf_model.predict(svd_stem_test)\n",
    "\n",
    "scores(y_test, y_pred_rf)"
   ]
  },
  {
   "cell_type": "markdown",
   "metadata": {},
   "source": [
    "### TF-IDF + SVD on Stemmed Text (Gradient Boosting Classifier)"
   ]
  },
  {
   "cell_type": "code",
   "execution_count": 37,
   "metadata": {},
   "outputs": [
    {
     "name": "stdout",
     "output_type": "stream",
     "text": [
      "\n",
      " [[2249  751]\n",
      " [ 736 2264]]    Accuracy: 0.752  /   Precision: 0.751  /   Recall: 0.755  /   F1: 0.753\n"
     ]
    }
   ],
   "source": [
    "from sklearn.ensemble import GradientBoostingClassifier\n",
    "gb = GradientBoostingClassifier(random_state=16)\n",
    "\n",
    "gb_model = gb.fit(svd_stem_train, y_train)\n",
    "y_pred_gb = gb_model.predict(svd_stem_test)\n",
    "\n",
    "scores(y_test, y_pred_gb)"
   ]
  },
  {
   "cell_type": "markdown",
   "metadata": {},
   "source": [
    "### TF-IDF + SVD on Stemmed Text (Dense Neural Network)"
   ]
  },
  {
   "cell_type": "code",
   "execution_count": 38,
   "metadata": {
    "scrolled": true
   },
   "outputs": [
    {
     "name": "stdout",
     "output_type": "stream",
     "text": [
      "Train on 16800 samples, validate on 7200 samples\n",
      "Epoch 1/100\n",
      "16800/16800 [==============================] - 3s 154us/sample - loss: 0.6604 - accuracy: 0.6074 - val_loss: 0.5544 - val_accuracy: 0.7329\n",
      "Epoch 2/100\n",
      "16800/16800 [==============================] - 2s 109us/sample - loss: 0.5367 - accuracy: 0.7351 - val_loss: 0.4992 - val_accuracy: 0.7597\n",
      "Epoch 3/100\n",
      "16800/16800 [==============================] - 2s 109us/sample - loss: 0.5172 - accuracy: 0.7465 - val_loss: 0.5008 - val_accuracy: 0.7539\n",
      "Epoch 4/100\n",
      "16800/16800 [==============================] - 2s 107us/sample - loss: 0.5080 - accuracy: 0.7540 - val_loss: 0.4978 - val_accuracy: 0.7651\n",
      "Epoch 5/100\n",
      "16800/16800 [==============================] - 2s 109us/sample - loss: 0.5012 - accuracy: 0.7591 - val_loss: 0.4907 - val_accuracy: 0.7653\n",
      "Epoch 6/100\n",
      "16800/16800 [==============================] - 2s 109us/sample - loss: 0.4974 - accuracy: 0.7598 - val_loss: 0.4880 - val_accuracy: 0.7690\n",
      "Epoch 7/100\n",
      "16800/16800 [==============================] - 2s 109us/sample - loss: 0.4942 - accuracy: 0.7630 - val_loss: 0.4874 - val_accuracy: 0.7667\n",
      "Epoch 8/100\n",
      "16800/16800 [==============================] - 2s 107us/sample - loss: 0.4915 - accuracy: 0.7671 - val_loss: 0.4866 - val_accuracy: 0.7678\n",
      "Epoch 9/100\n",
      "16800/16800 [==============================] - 2s 131us/sample - loss: 0.4878 - accuracy: 0.7667 - val_loss: 0.4946 - val_accuracy: 0.7638\n",
      "Epoch 10/100\n",
      "16800/16800 [==============================] - 2s 115us/sample - loss: 0.4842 - accuracy: 0.7705 - val_loss: 0.4842 - val_accuracy: 0.7707\n",
      "Epoch 11/100\n",
      "16800/16800 [==============================] - 2s 106us/sample - loss: 0.4814 - accuracy: 0.7705 - val_loss: 0.4942 - val_accuracy: 0.7614\n",
      "Epoch 12/100\n",
      "16800/16800 [==============================] - 2s 109us/sample - loss: 0.4796 - accuracy: 0.7721 - val_loss: 0.4882 - val_accuracy: 0.7681\n",
      "Epoch 13/100\n",
      "16800/16800 [==============================] - 2s 107us/sample - loss: 0.4774 - accuracy: 0.7735 - val_loss: 0.4794 - val_accuracy: 0.7707\n",
      "Epoch 14/100\n",
      "16800/16800 [==============================] - 2s 109us/sample - loss: 0.4753 - accuracy: 0.7755 - val_loss: 0.4825 - val_accuracy: 0.7714\n",
      "Epoch 15/100\n",
      "16800/16800 [==============================] - 2s 115us/sample - loss: 0.4733 - accuracy: 0.7771 - val_loss: 0.4948 - val_accuracy: 0.7571\n",
      "Epoch 16/100\n",
      "16800/16800 [==============================] - 2s 112us/sample - loss: 0.4690 - accuracy: 0.7808 - val_loss: 0.4830 - val_accuracy: 0.7699\n",
      "Epoch 17/100\n",
      "16800/16800 [==============================] - 2s 120us/sample - loss: 0.4692 - accuracy: 0.7805 - val_loss: 0.4818 - val_accuracy: 0.7731\n",
      "Epoch 18/100\n",
      "16800/16800 [==============================] - 2s 125us/sample - loss: 0.4665 - accuracy: 0.7801 - val_loss: 0.5077 - val_accuracy: 0.7528\n",
      "Epoch 19/100\n",
      "16800/16800 [==============================] - 3s 149us/sample - loss: 0.4614 - accuracy: 0.7870 - val_loss: 0.4912 - val_accuracy: 0.7661\n",
      "Epoch 20/100\n",
      "16800/16800 [==============================] - 2s 116us/sample - loss: 0.4597 - accuracy: 0.7862 - val_loss: 0.4743 - val_accuracy: 0.7758\n",
      "Epoch 21/100\n",
      "16800/16800 [==============================] - 2s 135us/sample - loss: 0.4586 - accuracy: 0.7879 - val_loss: 0.4736 - val_accuracy: 0.7772\n",
      "Epoch 22/100\n",
      "16800/16800 [==============================] - 2s 117us/sample - loss: 0.4527 - accuracy: 0.7918 - val_loss: 0.4790 - val_accuracy: 0.7735\n",
      "Epoch 23/100\n",
      "16800/16800 [==============================] - 2s 105us/sample - loss: 0.4550 - accuracy: 0.7885 - val_loss: 0.4757 - val_accuracy: 0.7751\n",
      "Epoch 24/100\n",
      "16800/16800 [==============================] - 2s 106us/sample - loss: 0.4528 - accuracy: 0.7915 - val_loss: 0.4719 - val_accuracy: 0.7761\n",
      "Epoch 25/100\n",
      "16800/16800 [==============================] - 2s 119us/sample - loss: 0.4507 - accuracy: 0.7939 - val_loss: 0.4809 - val_accuracy: 0.7760\n",
      "Epoch 26/100\n",
      "16800/16800 [==============================] - 2s 107us/sample - loss: 0.4490 - accuracy: 0.7926 - val_loss: 0.5033 - val_accuracy: 0.7601\n",
      "Epoch 27/100\n",
      "16800/16800 [==============================] - 2s 106us/sample - loss: 0.4458 - accuracy: 0.7919 - val_loss: 0.4733 - val_accuracy: 0.7768\n",
      "Epoch 28/100\n",
      "16800/16800 [==============================] - 2s 103us/sample - loss: 0.4455 - accuracy: 0.7940 - val_loss: 0.4722 - val_accuracy: 0.7757\n",
      "Epoch 29/100\n",
      "16800/16800 [==============================] - 2s 102us/sample - loss: 0.4405 - accuracy: 0.7989 - val_loss: 0.4814 - val_accuracy: 0.7725\n",
      "Epoch 30/100\n",
      "16800/16800 [==============================] - 2s 100us/sample - loss: 0.4394 - accuracy: 0.8019 - val_loss: 0.4754 - val_accuracy: 0.7722\n",
      "Epoch 31/100\n",
      "16800/16800 [==============================] - 2s 101us/sample - loss: 0.4356 - accuracy: 0.8029 - val_loss: 0.4734 - val_accuracy: 0.7706\n",
      "Epoch 32/100\n",
      "16800/16800 [==============================] - 2s 99us/sample - loss: 0.4359 - accuracy: 0.8020 - val_loss: 0.4745 - val_accuracy: 0.7719\n",
      "Epoch 33/100\n",
      "16800/16800 [==============================] - 2s 112us/sample - loss: 0.4318 - accuracy: 0.8047 - val_loss: 0.4712 - val_accuracy: 0.7744\n",
      "Epoch 34/100\n",
      "16800/16800 [==============================] - 2s 108us/sample - loss: 0.4294 - accuracy: 0.8056 - val_loss: 0.4940 - val_accuracy: 0.7699\n",
      "Epoch 35/100\n",
      "16800/16800 [==============================] - 2s 98us/sample - loss: 0.4302 - accuracy: 0.8069 - val_loss: 0.4836 - val_accuracy: 0.7754\n",
      "Epoch 36/100\n",
      "16800/16800 [==============================] - 2s 97us/sample - loss: 0.4293 - accuracy: 0.8032 - val_loss: 0.4732 - val_accuracy: 0.7740\n",
      "Epoch 37/100\n",
      "16800/16800 [==============================] - 2s 97us/sample - loss: 0.4279 - accuracy: 0.8061 - val_loss: 0.5100 - val_accuracy: 0.7619\n",
      "Epoch 38/100\n",
      "16800/16800 [==============================] - 2s 100us/sample - loss: 0.4219 - accuracy: 0.8084 - val_loss: 0.4854 - val_accuracy: 0.7721\n",
      "Epoch 39/100\n",
      "16800/16800 [==============================] - 2s 100us/sample - loss: 0.4221 - accuracy: 0.8092 - val_loss: 0.4765 - val_accuracy: 0.7707\n",
      "Epoch 40/100\n",
      "16800/16800 [==============================] - 2s 101us/sample - loss: 0.4193 - accuracy: 0.8117 - val_loss: 0.4798 - val_accuracy: 0.7782\n",
      "Epoch 41/100\n",
      "16800/16800 [==============================] - 2s 91us/sample - loss: 0.4184 - accuracy: 0.8113 - val_loss: 0.5002 - val_accuracy: 0.7657\n",
      "Epoch 42/100\n",
      "16800/16800 [==============================] - 2s 96us/sample - loss: 0.4164 - accuracy: 0.8118 - val_loss: 0.4857 - val_accuracy: 0.7719\n",
      "Epoch 43/100\n",
      "16800/16800 [==============================] - 2s 100us/sample - loss: 0.4166 - accuracy: 0.8095 - val_loss: 0.4794 - val_accuracy: 0.7793\n",
      "\n",
      " [[2319  681]\n",
      " [ 617 2383]]    Accuracy: 0.784  /   Precision: 0.778  /   Recall: 0.794  /   F1: 0.786\n"
     ]
    }
   ],
   "source": [
    "early_stopping_cb = keras.callbacks.EarlyStopping(patience=10, restore_best_weights=True)\n",
    "tfidf_stem_dnn_model = keras.models.Sequential([\n",
    "    keras.layers.Dense(300, activation=\"relu\", input_dim=100),\n",
    "    keras.layers.Dropout(0.3),\n",
    "    keras.layers.Dense(200, activation=\"relu\"),\n",
    "    keras.layers.Dropout(0.3),\n",
    "    keras.layers.Dense(100, activation=\"relu\"),\n",
    "    keras.layers.Dropout(0.2),\n",
    "    keras.layers.Dense(1, activation=\"sigmoid\")\n",
    "])\n",
    "sgd = keras.optimizers.SGD(lr=0.01, momentum=0.9, nesterov=True)\n",
    "tfidf_stem_dnn_model.compile(loss=\"binary_crossentropy\", optimizer=sgd, metrics=[\"accuracy\"])\n",
    "tfidf_stem_dnn_model.fit(svd_stem_train, y_train, validation_split=0.3, epochs=100, callbacks=[early_stopping_cb])\n",
    "y_predict = tfidf_stem_dnn_model.predict_classes(svd_stem_test)\n",
    "scores(y_test, y_predict)"
   ]
  },
  {
   "cell_type": "markdown",
   "metadata": {},
   "source": [
    "# Doc2Vec Embedding"
   ]
  },
  {
   "cell_type": "markdown",
   "metadata": {},
   "source": [
    "### Vectorize inputs by training a Doc2vec model on the train set"
   ]
  },
  {
   "cell_type": "code",
   "execution_count": 39,
   "metadata": {},
   "outputs": [],
   "source": [
    "from gensim.models.doc2vec import TaggedDocument, Doc2Vec\n",
    "\n",
    "X_train_corpus = X_train['review_body'].apply(lambda x: x.split()).reset_index(drop=True)\n",
    "X_test_corpus = X_test['review_body'].apply(lambda x: x.split()).reset_index(drop=True)\n",
    "\n",
    "vector_size = 500\n",
    "tagged_train = [TaggedDocument(doc, [i]) for i, doc in enumerate(X_train_corpus)]\n",
    "tagged_test = [TaggedDocument(doc, [i]) for i, doc in enumerate(X_test_corpus)]\n",
    "model = Doc2Vec(vector_size=vector_size, window=2, min_count=1, workers=4)\n",
    "model.build_vocab(tagged_train)\n",
    "model.train(tagged_train, total_examples=model.corpus_count, epochs=model.iter)\n",
    "\n",
    "X_train_dv = np.array([model.docvecs[i] for i in range(len(X_train_corpus))])\n",
    "X_test_dv = np.array([model.infer_vector(X_test_corpus[i]) for i in range(len(X_test_corpus))])\n",
    "doc2vec_X_train = pd.DataFrame(X_train_dv).set_index(X_train.index)\n",
    "doc2vec_X_test = pd.DataFrame(X_test_dv).set_index(X_test.index)"
   ]
  },
  {
   "cell_type": "markdown",
   "metadata": {},
   "source": [
    "### Doc2Vec on Text (Random Forest)"
   ]
  },
  {
   "cell_type": "code",
   "execution_count": 40,
   "metadata": {},
   "outputs": [
    {
     "name": "stdout",
     "output_type": "stream",
     "text": [
      "\n",
      " [[1669 1331]\n",
      " [ 417 2583]]    Accuracy: 0.709  /   Precision: 0.66  /   Recall: 0.861  /   F1: 0.747\n"
     ]
    }
   ],
   "source": [
    "rf_model = rf.fit(doc2vec_X_train, y_train)\n",
    "y_pred_rf = rf_model.predict(doc2vec_X_test)\n",
    "\n",
    "scores(y_test, y_pred_rf)"
   ]
  },
  {
   "cell_type": "markdown",
   "metadata": {},
   "source": [
    "### Doc2Vec on Text (Dense Neural Network)"
   ]
  },
  {
   "cell_type": "code",
   "execution_count": 41,
   "metadata": {
    "scrolled": true
   },
   "outputs": [
    {
     "name": "stdout",
     "output_type": "stream",
     "text": [
      "Train on 16800 samples, validate on 7200 samples\n",
      "Epoch 1/100\n",
      "16800/16800 [==============================] - 2s 120us/sample - loss: 1.8714 - accuracy: 0.6139 - val_loss: 1.7412 - val_accuracy: 0.6747\n",
      "Epoch 2/100\n",
      "16800/16800 [==============================] - 2s 94us/sample - loss: 1.6232 - accuracy: 0.6854 - val_loss: 1.5147 - val_accuracy: 0.6818\n",
      "Epoch 3/100\n",
      "16800/16800 [==============================] - 2s 105us/sample - loss: 1.4160 - accuracy: 0.6892 - val_loss: 1.3297 - val_accuracy: 0.6781\n",
      "Epoch 4/100\n",
      "16800/16800 [==============================] - 2s 113us/sample - loss: 1.2484 - accuracy: 0.6945 - val_loss: 1.1786 - val_accuracy: 0.6882\n",
      "Epoch 5/100\n",
      "16800/16800 [==============================] - 2s 97us/sample - loss: 1.1168 - accuracy: 0.7022 - val_loss: 1.0623 - val_accuracy: 0.6881\n",
      "Epoch 6/100\n",
      "16800/16800 [==============================] - 2s 100us/sample - loss: 1.0104 - accuracy: 0.7080 - val_loss: 0.9722 - val_accuracy: 0.6847\n",
      "Epoch 7/100\n",
      "16800/16800 [==============================] - 2s 92us/sample - loss: 0.9262 - accuracy: 0.7092 - val_loss: 0.8973 - val_accuracy: 0.6875\n",
      "Epoch 8/100\n",
      "16800/16800 [==============================] - 2s 98us/sample - loss: 0.8590 - accuracy: 0.7103 - val_loss: 0.8342 - val_accuracy: 0.6954\n",
      "Epoch 9/100\n",
      "16800/16800 [==============================] - 2s 90us/sample - loss: 0.8039 - accuracy: 0.7116 - val_loss: 0.7828 - val_accuracy: 0.7006\n",
      "Epoch 10/100\n",
      "16800/16800 [==============================] - 1s 86us/sample - loss: 0.7585 - accuracy: 0.7183 - val_loss: 0.7418 - val_accuracy: 0.7043\n",
      "Epoch 11/100\n",
      "16800/16800 [==============================] - 2s 99us/sample - loss: 0.7218 - accuracy: 0.7182 - val_loss: 0.7116 - val_accuracy: 0.7006\n",
      "Epoch 12/100\n",
      "16800/16800 [==============================] - 1s 88us/sample - loss: 0.6927 - accuracy: 0.7194 - val_loss: 0.6839 - val_accuracy: 0.7047\n",
      "Epoch 13/100\n",
      "16800/16800 [==============================] - 2s 99us/sample - loss: 0.6677 - accuracy: 0.7223 - val_loss: 0.6602 - val_accuracy: 0.7076\n",
      "Epoch 14/100\n",
      "16800/16800 [==============================] - 2s 98us/sample - loss: 0.6476 - accuracy: 0.7236 - val_loss: 0.6456 - val_accuracy: 0.7054\n",
      "Epoch 15/100\n",
      "16800/16800 [==============================] - 2s 93us/sample - loss: 0.6310 - accuracy: 0.7242 - val_loss: 0.6254 - val_accuracy: 0.7128\n",
      "Epoch 16/100\n",
      "16800/16800 [==============================] - 2s 92us/sample - loss: 0.6172 - accuracy: 0.7246 - val_loss: 0.6203 - val_accuracy: 0.7046\n",
      "Epoch 17/100\n",
      "16800/16800 [==============================] - 2s 93us/sample - loss: 0.6059 - accuracy: 0.7249 - val_loss: 0.6036 - val_accuracy: 0.7139\n",
      "Epoch 18/100\n",
      "16800/16800 [==============================] - 1s 86us/sample - loss: 0.5978 - accuracy: 0.7240 - val_loss: 0.5946 - val_accuracy: 0.7136\n",
      "Epoch 19/100\n",
      "16800/16800 [==============================] - 1s 83us/sample - loss: 0.5888 - accuracy: 0.7285 - val_loss: 0.5924 - val_accuracy: 0.7111\n",
      "Epoch 20/100\n",
      "16800/16800 [==============================] - 1s 85us/sample - loss: 0.5815 - accuracy: 0.7293 - val_loss: 0.5817 - val_accuracy: 0.7146\n",
      "Epoch 21/100\n",
      "16800/16800 [==============================] - 1s 84us/sample - loss: 0.5768 - accuracy: 0.7302 - val_loss: 0.5785 - val_accuracy: 0.7161\n",
      "Epoch 22/100\n",
      "16800/16800 [==============================] - 1s 86us/sample - loss: 0.5732 - accuracy: 0.7302 - val_loss: 0.5747 - val_accuracy: 0.7156\n",
      "Epoch 23/100\n",
      "16800/16800 [==============================] - 2s 93us/sample - loss: 0.5679 - accuracy: 0.7335 - val_loss: 0.5712 - val_accuracy: 0.7165\n",
      "Epoch 24/100\n",
      "16800/16800 [==============================] - 2s 105us/sample - loss: 0.5641 - accuracy: 0.7313 - val_loss: 0.5683 - val_accuracy: 0.7175\n",
      "Epoch 25/100\n",
      "16800/16800 [==============================] - 2s 92us/sample - loss: 0.5623 - accuracy: 0.7314 - val_loss: 0.5653 - val_accuracy: 0.7179\n",
      "Epoch 26/100\n",
      "16800/16800 [==============================] - 2s 94us/sample - loss: 0.5602 - accuracy: 0.7342 - val_loss: 0.5686 - val_accuracy: 0.7129\n",
      "Epoch 27/100\n",
      "16800/16800 [==============================] - 2s 93us/sample - loss: 0.5572 - accuracy: 0.7332 - val_loss: 0.5580 - val_accuracy: 0.7239\n",
      "Epoch 28/100\n",
      "16800/16800 [==============================] - 1s 82us/sample - loss: 0.5551 - accuracy: 0.7356 - val_loss: 0.5612 - val_accuracy: 0.7169\n",
      "Epoch 29/100\n",
      "16800/16800 [==============================] - 1s 83us/sample - loss: 0.5540 - accuracy: 0.7364 - val_loss: 0.5573 - val_accuracy: 0.7215\n",
      "Epoch 30/100\n",
      "16800/16800 [==============================] - 1s 83us/sample - loss: 0.5528 - accuracy: 0.7340 - val_loss: 0.5539 - val_accuracy: 0.7251\n",
      "Epoch 31/100\n",
      "16800/16800 [==============================] - 1s 82us/sample - loss: 0.5501 - accuracy: 0.7333 - val_loss: 0.5529 - val_accuracy: 0.7251\n",
      "Epoch 32/100\n",
      "16800/16800 [==============================] - 1s 85us/sample - loss: 0.5489 - accuracy: 0.7364 - val_loss: 0.5560 - val_accuracy: 0.7194\n",
      "Epoch 33/100\n",
      "16800/16800 [==============================] - 1s 85us/sample - loss: 0.5482 - accuracy: 0.7379 - val_loss: 0.5555 - val_accuracy: 0.7201\n",
      "Epoch 34/100\n",
      "16800/16800 [==============================] - 1s 89us/sample - loss: 0.5463 - accuracy: 0.7382 - val_loss: 0.5511 - val_accuracy: 0.7249\n",
      "Epoch 35/100\n",
      "16800/16800 [==============================] - 2s 93us/sample - loss: 0.5468 - accuracy: 0.7366 - val_loss: 0.5524 - val_accuracy: 0.7218\n",
      "Epoch 36/100\n",
      "16800/16800 [==============================] - 1s 89us/sample - loss: 0.5460 - accuracy: 0.7386 - val_loss: 0.5505 - val_accuracy: 0.7250\n",
      "Epoch 37/100\n",
      "16800/16800 [==============================] - 1s 82us/sample - loss: 0.5443 - accuracy: 0.7388 - val_loss: 0.5528 - val_accuracy: 0.7211\n",
      "Epoch 38/100\n",
      "16800/16800 [==============================] - 1s 84us/sample - loss: 0.5429 - accuracy: 0.7381 - val_loss: 0.5459 - val_accuracy: 0.7312\n",
      "Epoch 39/100\n",
      "16800/16800 [==============================] - 1s 85us/sample - loss: 0.5442 - accuracy: 0.7410 - val_loss: 0.5474 - val_accuracy: 0.7272\n",
      "Epoch 40/100\n",
      "16800/16800 [==============================] - 1s 86us/sample - loss: 0.5413 - accuracy: 0.7411 - val_loss: 0.5517 - val_accuracy: 0.7207\n",
      "Epoch 41/100\n",
      "16800/16800 [==============================] - 1s 85us/sample - loss: 0.5417 - accuracy: 0.7430 - val_loss: 0.5483 - val_accuracy: 0.7253\n",
      "Epoch 42/100\n",
      "16800/16800 [==============================] - 1s 86us/sample - loss: 0.5406 - accuracy: 0.7424 - val_loss: 0.5491 - val_accuracy: 0.7242\n",
      "Epoch 43/100\n",
      "16800/16800 [==============================] - 1s 86us/sample - loss: 0.5400 - accuracy: 0.7408 - val_loss: 0.5461 - val_accuracy: 0.7264\n",
      "Epoch 44/100\n",
      "16800/16800 [==============================] - 1s 85us/sample - loss: 0.5397 - accuracy: 0.7427 - val_loss: 0.5441 - val_accuracy: 0.7303\n",
      "Epoch 45/100\n",
      "16800/16800 [==============================] - 2s 90us/sample - loss: 0.5383 - accuracy: 0.7440 - val_loss: 0.5433 - val_accuracy: 0.7310\n",
      "Epoch 46/100\n",
      "16800/16800 [==============================] - 2s 102us/sample - loss: 0.5383 - accuracy: 0.7429 - val_loss: 0.5447 - val_accuracy: 0.7278\n",
      "Epoch 47/100\n",
      "16800/16800 [==============================] - 2s 89us/sample - loss: 0.5380 - accuracy: 0.7411 - val_loss: 0.5452 - val_accuracy: 0.7265\n",
      "Epoch 48/100\n",
      "16800/16800 [==============================] - 2s 91us/sample - loss: 0.5372 - accuracy: 0.7443 - val_loss: 0.5410 - val_accuracy: 0.7332\n",
      "Epoch 49/100\n",
      "16800/16800 [==============================] - 2s 92us/sample - loss: 0.5365 - accuracy: 0.7444 - val_loss: 0.5412 - val_accuracy: 0.7319\n",
      "Epoch 50/100\n",
      "16800/16800 [==============================] - 1s 84us/sample - loss: 0.5369 - accuracy: 0.7435 - val_loss: 0.5467 - val_accuracy: 0.7265\n",
      "Epoch 51/100\n",
      "16800/16800 [==============================] - 1s 86us/sample - loss: 0.5346 - accuracy: 0.7439 - val_loss: 0.5408 - val_accuracy: 0.7319\n",
      "Epoch 52/100\n",
      "16800/16800 [==============================] - 2s 90us/sample - loss: 0.5345 - accuracy: 0.7445 - val_loss: 0.5389 - val_accuracy: 0.7353\n",
      "Epoch 53/100\n",
      "16800/16800 [==============================] - 2s 91us/sample - loss: 0.5334 - accuracy: 0.7458 - val_loss: 0.5403 - val_accuracy: 0.7312\n",
      "Epoch 54/100\n",
      "16800/16800 [==============================] - 2s 90us/sample - loss: 0.5340 - accuracy: 0.7464 - val_loss: 0.5373 - val_accuracy: 0.7365\n",
      "Epoch 55/100\n",
      "16800/16800 [==============================] - 1s 88us/sample - loss: 0.5333 - accuracy: 0.7456 - val_loss: 0.5395 - val_accuracy: 0.7325\n",
      "Epoch 56/100\n",
      "16800/16800 [==============================] - 2s 97us/sample - loss: 0.5329 - accuracy: 0.7470 - val_loss: 0.5386 - val_accuracy: 0.7331\n",
      "Epoch 57/100\n",
      "16800/16800 [==============================] - 2s 93us/sample - loss: 0.5325 - accuracy: 0.7456 - val_loss: 0.5374 - val_accuracy: 0.7356\n",
      "Epoch 58/100\n",
      "16800/16800 [==============================] - 2s 94us/sample - loss: 0.5320 - accuracy: 0.7470 - val_loss: 0.5387 - val_accuracy: 0.7322\n",
      "Epoch 59/100\n",
      "16800/16800 [==============================] - 2s 96us/sample - loss: 0.5323 - accuracy: 0.7471 - val_loss: 0.5359 - val_accuracy: 0.7378\n",
      "Epoch 60/100\n",
      "16800/16800 [==============================] - 2s 96us/sample - loss: 0.5310 - accuracy: 0.7482 - val_loss: 0.5442 - val_accuracy: 0.7275\n",
      "Epoch 61/100\n",
      "16800/16800 [==============================] - 1s 88us/sample - loss: 0.5310 - accuracy: 0.7470 - val_loss: 0.5358 - val_accuracy: 0.7378\n",
      "Epoch 62/100\n",
      "16800/16800 [==============================] - 2s 98us/sample - loss: 0.5296 - accuracy: 0.7503 - val_loss: 0.5377 - val_accuracy: 0.7322\n",
      "Epoch 63/100\n",
      "16800/16800 [==============================] - 2s 98us/sample - loss: 0.5291 - accuracy: 0.7501 - val_loss: 0.5349 - val_accuracy: 0.7386\n",
      "Epoch 64/100\n",
      "16800/16800 [==============================] - 1s 89us/sample - loss: 0.5282 - accuracy: 0.7502 - val_loss: 0.5388 - val_accuracy: 0.7310\n",
      "Epoch 65/100\n",
      "16800/16800 [==============================] - 1s 89us/sample - loss: 0.5295 - accuracy: 0.7487 - val_loss: 0.5411 - val_accuracy: 0.7297\n",
      "Epoch 66/100\n",
      "16800/16800 [==============================] - 2s 105us/sample - loss: 0.5287 - accuracy: 0.7498 - val_loss: 0.5378 - val_accuracy: 0.7324\n",
      "Epoch 67/100\n",
      "16800/16800 [==============================] - 2s 120us/sample - loss: 0.5284 - accuracy: 0.7504 - val_loss: 0.5382 - val_accuracy: 0.7322\n",
      "Epoch 68/100\n",
      "16800/16800 [==============================] - 2s 98us/sample - loss: 0.5279 - accuracy: 0.7504 - val_loss: 0.5338 - val_accuracy: 0.7397\n",
      "Epoch 69/100\n",
      "16800/16800 [==============================] - 1s 84us/sample - loss: 0.5283 - accuracy: 0.7496 - val_loss: 0.5369 - val_accuracy: 0.7336\n",
      "Epoch 70/100\n",
      "16800/16800 [==============================] - 1s 88us/sample - loss: 0.5271 - accuracy: 0.7518 - val_loss: 0.5342 - val_accuracy: 0.7382\n",
      "Epoch 71/100\n",
      "16800/16800 [==============================] - 2s 90us/sample - loss: 0.5261 - accuracy: 0.7502 - val_loss: 0.5343 - val_accuracy: 0.7379\n",
      "Epoch 72/100\n",
      "16800/16800 [==============================] - 2s 90us/sample - loss: 0.5257 - accuracy: 0.7507 - val_loss: 0.5359 - val_accuracy: 0.7361\n",
      "Epoch 73/100\n",
      "16800/16800 [==============================] - 1s 89us/sample - loss: 0.5270 - accuracy: 0.7492 - val_loss: 0.5332 - val_accuracy: 0.7392\n",
      "Epoch 74/100\n",
      "16800/16800 [==============================] - 1s 89us/sample - loss: 0.5258 - accuracy: 0.7521 - val_loss: 0.5362 - val_accuracy: 0.7344\n",
      "Epoch 75/100\n",
      "16800/16800 [==============================] - 1s 89us/sample - loss: 0.5242 - accuracy: 0.7511 - val_loss: 0.5369 - val_accuracy: 0.7336\n",
      "Epoch 76/100\n",
      "16800/16800 [==============================] - 2s 96us/sample - loss: 0.5267 - accuracy: 0.7514 - val_loss: 0.5317 - val_accuracy: 0.7417\n",
      "Epoch 77/100\n",
      "16800/16800 [==============================] - 2s 98us/sample - loss: 0.5252 - accuracy: 0.7522 - val_loss: 0.5324 - val_accuracy: 0.7389\n",
      "Epoch 78/100\n",
      "16800/16800 [==============================] - 1s 83us/sample - loss: 0.5235 - accuracy: 0.7517 - val_loss: 0.5322 - val_accuracy: 0.7385\n",
      "Epoch 79/100\n",
      "16800/16800 [==============================] - 1s 82us/sample - loss: 0.5234 - accuracy: 0.7539 - val_loss: 0.5315 - val_accuracy: 0.7422\n",
      "Epoch 80/100\n",
      "16800/16800 [==============================] - 1s 81us/sample - loss: 0.5241 - accuracy: 0.7514 - val_loss: 0.5323 - val_accuracy: 0.7390\n",
      "Epoch 81/100\n",
      "16800/16800 [==============================] - 1s 83us/sample - loss: 0.5243 - accuracy: 0.7517 - val_loss: 0.5329 - val_accuracy: 0.7378\n",
      "Epoch 82/100\n",
      "16800/16800 [==============================] - 1s 86us/sample - loss: 0.5228 - accuracy: 0.7501 - val_loss: 0.5361 - val_accuracy: 0.7343\n",
      "Epoch 83/100\n",
      "16800/16800 [==============================] - 1s 87us/sample - loss: 0.5218 - accuracy: 0.7524 - val_loss: 0.5329 - val_accuracy: 0.7376\n",
      "Epoch 84/100\n",
      "16800/16800 [==============================] - 1s 85us/sample - loss: 0.5224 - accuracy: 0.7540 - val_loss: 0.5357 - val_accuracy: 0.7349\n",
      "Epoch 85/100\n",
      "16800/16800 [==============================] - 1s 84us/sample - loss: 0.5224 - accuracy: 0.7542 - val_loss: 0.5335 - val_accuracy: 0.7372\n",
      "Epoch 86/100\n",
      "16800/16800 [==============================] - 1s 86us/sample - loss: 0.5219 - accuracy: 0.7554 - val_loss: 0.5315 - val_accuracy: 0.7382\n",
      "Epoch 87/100\n",
      "16800/16800 [==============================] - 2s 92us/sample - loss: 0.5216 - accuracy: 0.7545 - val_loss: 0.5397 - val_accuracy: 0.7328\n",
      "Epoch 88/100\n",
      "16800/16800 [==============================] - 2s 99us/sample - loss: 0.5211 - accuracy: 0.7555 - val_loss: 0.5301 - val_accuracy: 0.7431\n",
      "Epoch 89/100\n",
      "16800/16800 [==============================] - 1s 89us/sample - loss: 0.5197 - accuracy: 0.7563 - val_loss: 0.5342 - val_accuracy: 0.7362\n",
      "Epoch 90/100\n",
      "16800/16800 [==============================] - 1s 83us/sample - loss: 0.5209 - accuracy: 0.7552 - val_loss: 0.5315 - val_accuracy: 0.7376\n",
      "Epoch 91/100\n",
      "16800/16800 [==============================] - 1s 84us/sample - loss: 0.5208 - accuracy: 0.7531 - val_loss: 0.5321 - val_accuracy: 0.7375\n",
      "Epoch 92/100\n",
      "16800/16800 [==============================] - 1s 86us/sample - loss: 0.5196 - accuracy: 0.7547 - val_loss: 0.5308 - val_accuracy: 0.7381\n",
      "Epoch 93/100\n",
      "16800/16800 [==============================] - 1s 86us/sample - loss: 0.5195 - accuracy: 0.7564 - val_loss: 0.5357 - val_accuracy: 0.7349\n",
      "Epoch 94/100\n",
      "16800/16800 [==============================] - 1s 84us/sample - loss: 0.5199 - accuracy: 0.7557 - val_loss: 0.5342 - val_accuracy: 0.7362\n",
      "Epoch 95/100\n",
      "16800/16800 [==============================] - 2s 91us/sample - loss: 0.5204 - accuracy: 0.7555 - val_loss: 0.5310 - val_accuracy: 0.7374\n",
      "Epoch 96/100\n",
      "16800/16800 [==============================] - 2s 100us/sample - loss: 0.5197 - accuracy: 0.7554 - val_loss: 0.5320 - val_accuracy: 0.7383\n",
      "Epoch 97/100\n",
      "16800/16800 [==============================] - 2s 97us/sample - loss: 0.5197 - accuracy: 0.7539 - val_loss: 0.5324 - val_accuracy: 0.7374\n",
      "Epoch 98/100\n",
      "16800/16800 [==============================] - 2s 102us/sample - loss: 0.5184 - accuracy: 0.7561 - val_loss: 0.5362 - val_accuracy: 0.7340\n",
      "Epoch 99/100\n",
      "16800/16800 [==============================] - 2s 90us/sample - loss: 0.5171 - accuracy: 0.7565 - val_loss: 0.5295 - val_accuracy: 0.7407\n",
      "Epoch 100/100\n",
      "16800/16800 [==============================] - 2s 98us/sample - loss: 0.5178 - accuracy: 0.7560 - val_loss: 0.5285 - val_accuracy: 0.7446\n",
      "\n",
      " [[2134  866]\n",
      " [ 641 2359]]    Accuracy: 0.749  /   Precision: 0.731  /   Recall: 0.786  /   F1: 0.758\n"
     ]
    }
   ],
   "source": [
    "early_stopping_cb = keras.callbacks.EarlyStopping(patience=20, restore_best_weights=True)\n",
    "d2v_dnn_model = keras.models.Sequential([\n",
    "    keras.layers.Dense(200, activation=\"relu\", input_dim=vector_size),\n",
    "    keras.layers.Dropout(0.2),\n",
    "    keras.layers.Dense(100, activation=\"relu\", kernel_regularizer=keras.regularizers.l2(0.01)),\n",
    "    keras.layers.Dropout(0.2),\n",
    "    keras.layers.Dense(1, activation=\"sigmoid\")\n",
    "])\n",
    "sgd = keras.optimizers.SGD(lr=0.01, momentum=0.9, nesterov=True)\n",
    "d2v_dnn_model.compile(loss=\"binary_crossentropy\", optimizer='sgd', metrics=[\"accuracy\"])\n",
    "d2v_dnn_model.fit(doc2vec_X_train, y_train, validation_split=0.3, epochs=100, callbacks=[early_stopping_cb])\n",
    "y_predict = d2v_dnn_model.predict_classes(doc2vec_X_test)\n",
    "scores(y_test, y_predict)"
   ]
  },
  {
   "cell_type": "code",
   "execution_count": 42,
   "metadata": {
    "scrolled": true
   },
   "outputs": [
    {
     "name": "stdout",
     "output_type": "stream",
     "text": [
      "Train on 16800 samples, validate on 7200 samples\n",
      "Epoch 1/100\n",
      "16800/16800 [==============================] - 6s 344us/sample - loss: 0.5551 - accuracy: 0.7233 - val_loss: 0.5367 - val_accuracy: 0.7297\n",
      "Epoch 2/100\n",
      "16800/16800 [==============================] - 3s 186us/sample - loss: 0.5295 - accuracy: 0.7412 - val_loss: 0.5261 - val_accuracy: 0.7396\n",
      "Epoch 3/100\n",
      "16800/16800 [==============================] - 3s 204us/sample - loss: 0.5190 - accuracy: 0.7480 - val_loss: 0.5309 - val_accuracy: 0.7417\n",
      "Epoch 4/100\n",
      "16800/16800 [==============================] - 3s 202us/sample - loss: 0.5111 - accuracy: 0.7527 - val_loss: 0.5261 - val_accuracy: 0.7440\n",
      "Epoch 5/100\n",
      "16800/16800 [==============================] - 3s 203us/sample - loss: 0.5031 - accuracy: 0.7588 - val_loss: 0.5234 - val_accuracy: 0.7390\n",
      "Epoch 6/100\n",
      "16800/16800 [==============================] - 3s 197us/sample - loss: 0.4952 - accuracy: 0.7612 - val_loss: 0.5231 - val_accuracy: 0.7418\n",
      "Epoch 7/100\n",
      "16800/16800 [==============================] - 3s 195us/sample - loss: 0.4886 - accuracy: 0.7682 - val_loss: 0.5342 - val_accuracy: 0.7339\n",
      "Epoch 8/100\n",
      "16800/16800 [==============================] - 3s 208us/sample - loss: 0.4837 - accuracy: 0.7693 - val_loss: 0.5337 - val_accuracy: 0.7375\n",
      "Epoch 9/100\n",
      "16800/16800 [==============================] - 3s 187us/sample - loss: 0.4777 - accuracy: 0.7730 - val_loss: 0.5332 - val_accuracy: 0.7396\n",
      "Epoch 10/100\n",
      "16800/16800 [==============================] - 3s 195us/sample - loss: 0.4710 - accuracy: 0.7755 - val_loss: 0.5422 - val_accuracy: 0.7401\n",
      "Epoch 11/100\n",
      "16800/16800 [==============================] - 3s 195us/sample - loss: 0.4606 - accuracy: 0.7847 - val_loss: 0.5390 - val_accuracy: 0.7397\n",
      "Epoch 12/100\n",
      "16800/16800 [==============================] - 3s 192us/sample - loss: 0.4525 - accuracy: 0.7836 - val_loss: 0.5478 - val_accuracy: 0.7411\n",
      "Epoch 13/100\n",
      "16800/16800 [==============================] - 4s 209us/sample - loss: 0.4488 - accuracy: 0.7886 - val_loss: 0.5469 - val_accuracy: 0.7353\n",
      "Epoch 14/100\n",
      "16800/16800 [==============================] - 3s 191us/sample - loss: 0.4417 - accuracy: 0.7923 - val_loss: 0.5587 - val_accuracy: 0.7360\n",
      "Epoch 15/100\n",
      "16800/16800 [==============================] - 3s 196us/sample - loss: 0.4370 - accuracy: 0.7945 - val_loss: 0.5650 - val_accuracy: 0.7369\n",
      "Epoch 16/100\n",
      "16800/16800 [==============================] - 3s 193us/sample - loss: 0.4291 - accuracy: 0.7974 - val_loss: 0.5717 - val_accuracy: 0.7335\n",
      "Epoch 17/100\n",
      "16800/16800 [==============================] - 3s 191us/sample - loss: 0.4228 - accuracy: 0.8013 - val_loss: 0.5655 - val_accuracy: 0.7331\n",
      "Epoch 18/100\n",
      "16800/16800 [==============================] - 3s 203us/sample - loss: 0.4195 - accuracy: 0.8043 - val_loss: 0.5799 - val_accuracy: 0.7308\n",
      "Epoch 19/100\n",
      "16800/16800 [==============================] - 3s 194us/sample - loss: 0.4157 - accuracy: 0.8067 - val_loss: 0.5926 - val_accuracy: 0.7267\n",
      "Epoch 20/100\n",
      "16800/16800 [==============================] - 3s 196us/sample - loss: 0.4065 - accuracy: 0.8127 - val_loss: 0.5819 - val_accuracy: 0.7317\n",
      "Epoch 21/100\n",
      "16800/16800 [==============================] - 3s 192us/sample - loss: 0.4019 - accuracy: 0.8133 - val_loss: 0.5975 - val_accuracy: 0.7242\n",
      "Epoch 22/100\n",
      "16800/16800 [==============================] - 3s 199us/sample - loss: 0.3990 - accuracy: 0.8139 - val_loss: 0.6002 - val_accuracy: 0.7271\n",
      "Epoch 23/100\n",
      "16800/16800 [==============================] - 3s 207us/sample - loss: 0.3989 - accuracy: 0.8146 - val_loss: 0.5914 - val_accuracy: 0.7317\n",
      "Epoch 24/100\n",
      "16800/16800 [==============================] - 3s 206us/sample - loss: 0.3935 - accuracy: 0.8203 - val_loss: 0.6112 - val_accuracy: 0.7244\n",
      "Epoch 25/100\n",
      "16800/16800 [==============================] - 3s 198us/sample - loss: 0.3924 - accuracy: 0.8201 - val_loss: 0.6306 - val_accuracy: 0.7232\n",
      "Epoch 26/100\n",
      "16800/16800 [==============================] - 3s 194us/sample - loss: 0.3789 - accuracy: 0.8245 - val_loss: 0.6371 - val_accuracy: 0.7222\n",
      "Epoch 27/100\n",
      "16800/16800 [==============================] - 3s 204us/sample - loss: 0.3878 - accuracy: 0.8245 - val_loss: 0.6116 - val_accuracy: 0.7244\n",
      "Epoch 28/100\n",
      "16800/16800 [==============================] - 3s 193us/sample - loss: 0.3778 - accuracy: 0.8264 - val_loss: 0.6396 - val_accuracy: 0.7218\n",
      "Epoch 29/100\n",
      "16800/16800 [==============================] - 3s 187us/sample - loss: 0.3783 - accuracy: 0.8261 - val_loss: 0.6253 - val_accuracy: 0.7200\n",
      "Epoch 30/100\n",
      "16800/16800 [==============================] - 3s 188us/sample - loss: 0.3731 - accuracy: 0.8308 - val_loss: 0.6343 - val_accuracy: 0.7228\n",
      "Epoch 31/100\n",
      "16800/16800 [==============================] - 3s 188us/sample - loss: 0.3645 - accuracy: 0.8345 - val_loss: 0.6564 - val_accuracy: 0.7178\n",
      "Epoch 32/100\n",
      "16800/16800 [==============================] - 3s 199us/sample - loss: 0.3681 - accuracy: 0.8303 - val_loss: 0.6548 - val_accuracy: 0.7218\n",
      "Epoch 33/100\n",
      "16800/16800 [==============================] - 3s 188us/sample - loss: 0.3655 - accuracy: 0.8341 - val_loss: 0.6763 - val_accuracy: 0.7174\n",
      "Epoch 34/100\n",
      "16800/16800 [==============================] - 3s 188us/sample - loss: 0.3600 - accuracy: 0.8377 - val_loss: 0.6594 - val_accuracy: 0.7161\n",
      "Epoch 35/100\n",
      "16800/16800 [==============================] - 3s 190us/sample - loss: 0.3545 - accuracy: 0.8391 - val_loss: 0.6812 - val_accuracy: 0.7235\n",
      "Epoch 36/100\n",
      "16800/16800 [==============================] - 3s 206us/sample - loss: 0.3578 - accuracy: 0.8392 - val_loss: 0.6592 - val_accuracy: 0.7239\n",
      "\n",
      " [[2185  815]\n",
      " [ 709 2291]]    Accuracy: 0.746  /   Precision: 0.738  /   Recall: 0.764  /   F1: 0.75\n"
     ]
    }
   ],
   "source": [
    "doc2vec_X_train_3d = doc2vec_X_train.to_numpy().reshape(len(doc2vec_X_train), 1, vector_size)\n",
    "doc2vec_X_test_3d = doc2vec_X_test.to_numpy().reshape(len(doc2vec_X_test), 1, vector_size)\n",
    "early_stopping_cb = keras.callbacks.EarlyStopping(patience=30, restore_best_weights=True)\n",
    "d2v_rnn_model = keras.models.Sequential([\n",
    "    keras.layers.LSTM(50, dropout=0.2, input_shape=[1, vector_size], return_sequences=True),\n",
    "    keras.layers.LSTM(50, dropout=0.2),\n",
    "    keras.layers.Dense(1, activation=\"sigmoid\")\n",
    "])\n",
    "adam = keras.optimizers.Adam(lr=0.01)\n",
    "d2v_rnn_model.compile(loss=\"binary_crossentropy\", optimizer=adam, metrics=[\"accuracy\"])\n",
    "d2v_rnn_model.fit(doc2vec_X_train_3d, y_train, validation_split=0.3, epochs=100, callbacks=[early_stopping_cb])\n",
    "y_predict = d2v_rnn_model.predict_classes(doc2vec_X_test_3d)\n",
    "scores(y_test, y_predict)"
   ]
  },
  {
   "cell_type": "code",
   "execution_count": 43,
   "metadata": {
    "scrolled": true
   },
   "outputs": [
    {
     "name": "stdout",
     "output_type": "stream",
     "text": [
      "Train on 16800 samples, validate on 7200 samples\n",
      "Epoch 1/100\n",
      "16800/16800 [==============================] - 7s 392us/sample - loss: 0.6430 - accuracy: 0.6524 - val_loss: 0.6017 - val_accuracy: 0.6751\n",
      "Epoch 2/100\n",
      "16800/16800 [==============================] - 4s 254us/sample - loss: 0.5785 - accuracy: 0.7068 - val_loss: 0.5651 - val_accuracy: 0.7122\n",
      "Epoch 3/100\n",
      "16800/16800 [==============================] - 4s 266us/sample - loss: 0.5624 - accuracy: 0.7167 - val_loss: 0.5690 - val_accuracy: 0.6979\n",
      "Epoch 4/100\n",
      "16800/16800 [==============================] - 5s 290us/sample - loss: 0.5524 - accuracy: 0.7229 - val_loss: 0.5485 - val_accuracy: 0.7178\n",
      "Epoch 5/100\n",
      "16800/16800 [==============================] - 5s 277us/sample - loss: 0.5442 - accuracy: 0.7302 - val_loss: 0.5450 - val_accuracy: 0.7201\n",
      "Epoch 6/100\n",
      "16800/16800 [==============================] - 5s 272us/sample - loss: 0.5375 - accuracy: 0.7340 - val_loss: 0.5435 - val_accuracy: 0.7224\n",
      "Epoch 7/100\n",
      "16800/16800 [==============================] - 5s 274us/sample - loss: 0.5343 - accuracy: 0.7337 - val_loss: 0.5449 - val_accuracy: 0.7211\n",
      "Epoch 8/100\n",
      "16800/16800 [==============================] - 4s 261us/sample - loss: 0.5290 - accuracy: 0.7416 - val_loss: 0.5496 - val_accuracy: 0.7188\n",
      "Epoch 9/100\n",
      "16800/16800 [==============================] - 5s 277us/sample - loss: 0.5263 - accuracy: 0.7405 - val_loss: 0.5326 - val_accuracy: 0.7317\n",
      "Epoch 10/100\n",
      "16800/16800 [==============================] - 4s 261us/sample - loss: 0.5235 - accuracy: 0.7434 - val_loss: 0.5330 - val_accuracy: 0.7286\n",
      "Epoch 11/100\n",
      "16800/16800 [==============================] - 5s 283us/sample - loss: 0.5202 - accuracy: 0.7477 - val_loss: 0.5297 - val_accuracy: 0.7319\n",
      "Epoch 12/100\n",
      "16800/16800 [==============================] - 4s 261us/sample - loss: 0.5176 - accuracy: 0.7486 - val_loss: 0.5335 - val_accuracy: 0.7311\n",
      "Epoch 13/100\n",
      "16800/16800 [==============================] - 4s 268us/sample - loss: 0.5167 - accuracy: 0.7522 - val_loss: 0.5297 - val_accuracy: 0.7340\n",
      "Epoch 14/100\n",
      "16800/16800 [==============================] - 5s 279us/sample - loss: 0.5154 - accuracy: 0.7504 - val_loss: 0.5284 - val_accuracy: 0.7346\n",
      "Epoch 15/100\n",
      "16800/16800 [==============================] - 5s 278us/sample - loss: 0.5128 - accuracy: 0.7520 - val_loss: 0.5241 - val_accuracy: 0.7399\n",
      "Epoch 16/100\n",
      "16800/16800 [==============================] - 4s 253us/sample - loss: 0.5123 - accuracy: 0.7538 - val_loss: 0.5351 - val_accuracy: 0.7321\n",
      "Epoch 17/100\n",
      "16800/16800 [==============================] - 4s 267us/sample - loss: 0.5105 - accuracy: 0.7530 - val_loss: 0.5237 - val_accuracy: 0.7401\n",
      "Epoch 18/100\n",
      "16800/16800 [==============================] - 5s 316us/sample - loss: 0.5079 - accuracy: 0.7539 - val_loss: 0.5227 - val_accuracy: 0.7389\n",
      "Epoch 19/100\n",
      "16800/16800 [==============================] - 5s 271us/sample - loss: 0.5073 - accuracy: 0.7552 - val_loss: 0.5445 - val_accuracy: 0.7233\n",
      "Epoch 20/100\n",
      "16800/16800 [==============================] - 5s 276us/sample - loss: 0.5063 - accuracy: 0.7565 - val_loss: 0.5209 - val_accuracy: 0.7432\n",
      "Epoch 21/100\n",
      "16800/16800 [==============================] - 5s 283us/sample - loss: 0.5056 - accuracy: 0.7552 - val_loss: 0.5206 - val_accuracy: 0.7408\n",
      "Epoch 22/100\n",
      "16800/16800 [==============================] - 5s 270us/sample - loss: 0.5035 - accuracy: 0.7550 - val_loss: 0.5209 - val_accuracy: 0.7415\n",
      "Epoch 23/100\n",
      "16800/16800 [==============================] - 4s 259us/sample - loss: 0.5025 - accuracy: 0.7583 - val_loss: 0.5312 - val_accuracy: 0.7329\n",
      "Epoch 24/100\n",
      "16800/16800 [==============================] - 4s 262us/sample - loss: 0.5023 - accuracy: 0.7571 - val_loss: 0.5225 - val_accuracy: 0.7403\n",
      "Epoch 25/100\n",
      "16800/16800 [==============================] - 5s 289us/sample - loss: 0.5005 - accuracy: 0.7604 - val_loss: 0.5282 - val_accuracy: 0.7364\n",
      "Epoch 26/100\n",
      "16800/16800 [==============================] - 4s 257us/sample - loss: 0.5013 - accuracy: 0.7594 - val_loss: 0.5295 - val_accuracy: 0.7342\n",
      "Epoch 27/100\n",
      "16800/16800 [==============================] - 4s 256us/sample - loss: 0.4993 - accuracy: 0.7624 - val_loss: 0.5190 - val_accuracy: 0.7446\n",
      "Epoch 28/100\n",
      "16800/16800 [==============================] - 5s 269us/sample - loss: 0.4978 - accuracy: 0.7621 - val_loss: 0.5235 - val_accuracy: 0.7408\n",
      "Epoch 29/100\n",
      "16800/16800 [==============================] - 4s 267us/sample - loss: 0.4978 - accuracy: 0.7609 - val_loss: 0.5244 - val_accuracy: 0.7376\n",
      "Epoch 30/100\n",
      "16800/16800 [==============================] - 4s 266us/sample - loss: 0.4948 - accuracy: 0.7609 - val_loss: 0.5260 - val_accuracy: 0.7360\n",
      "Epoch 31/100\n",
      "16800/16800 [==============================] - 5s 273us/sample - loss: 0.4941 - accuracy: 0.7601 - val_loss: 0.5187 - val_accuracy: 0.7467\n",
      "Epoch 32/100\n",
      "16800/16800 [==============================] - 5s 290us/sample - loss: 0.4947 - accuracy: 0.7605 - val_loss: 0.5238 - val_accuracy: 0.7374\n",
      "Epoch 33/100\n",
      "16800/16800 [==============================] - 5s 269us/sample - loss: 0.4925 - accuracy: 0.7635 - val_loss: 0.5201 - val_accuracy: 0.7435\n",
      "Epoch 34/100\n",
      "16800/16800 [==============================] - 4s 264us/sample - loss: 0.4928 - accuracy: 0.7637 - val_loss: 0.5197 - val_accuracy: 0.7412\n",
      "Epoch 35/100\n",
      "16800/16800 [==============================] - 5s 276us/sample - loss: 0.4919 - accuracy: 0.7615 - val_loss: 0.5223 - val_accuracy: 0.7401\n",
      "Epoch 36/100\n",
      "16800/16800 [==============================] - 5s 278us/sample - loss: 0.4899 - accuracy: 0.7661 - val_loss: 0.5223 - val_accuracy: 0.7408\n",
      "Epoch 37/100\n",
      "16800/16800 [==============================] - 4s 259us/sample - loss: 0.4893 - accuracy: 0.7657 - val_loss: 0.5312 - val_accuracy: 0.7342\n",
      "Epoch 38/100\n",
      "16800/16800 [==============================] - 4s 265us/sample - loss: 0.4877 - accuracy: 0.7651 - val_loss: 0.5210 - val_accuracy: 0.7442\n",
      "Epoch 39/100\n",
      "16800/16800 [==============================] - 5s 286us/sample - loss: 0.4878 - accuracy: 0.7630 - val_loss: 0.5201 - val_accuracy: 0.7424\n",
      "Epoch 40/100\n",
      "16800/16800 [==============================] - 5s 274us/sample - loss: 0.4878 - accuracy: 0.7669 - val_loss: 0.5183 - val_accuracy: 0.7428\n",
      "Epoch 41/100\n",
      "16800/16800 [==============================] - 5s 275us/sample - loss: 0.4873 - accuracy: 0.7661 - val_loss: 0.5217 - val_accuracy: 0.7422\n",
      "Epoch 42/100\n",
      "16800/16800 [==============================] - 4s 268us/sample - loss: 0.4846 - accuracy: 0.7682 - val_loss: 0.5211 - val_accuracy: 0.7443\n",
      "Epoch 43/100\n",
      "16800/16800 [==============================] - 5s 279us/sample - loss: 0.4843 - accuracy: 0.7685 - val_loss: 0.5271 - val_accuracy: 0.7396\n",
      "Epoch 44/100\n",
      "16800/16800 [==============================] - 4s 266us/sample - loss: 0.4833 - accuracy: 0.7695 - val_loss: 0.5187 - val_accuracy: 0.7467\n",
      "Epoch 45/100\n",
      "16800/16800 [==============================] - 4s 264us/sample - loss: 0.4820 - accuracy: 0.7712 - val_loss: 0.5218 - val_accuracy: 0.7450\n",
      "Epoch 46/100\n",
      "16800/16800 [==============================] - 5s 285us/sample - loss: 0.4814 - accuracy: 0.7706 - val_loss: 0.5288 - val_accuracy: 0.7387\n",
      "Epoch 47/100\n",
      "16800/16800 [==============================] - 5s 270us/sample - loss: 0.4794 - accuracy: 0.7695 - val_loss: 0.5239 - val_accuracy: 0.7429\n",
      "Epoch 48/100\n",
      "16800/16800 [==============================] - 5s 274us/sample - loss: 0.4797 - accuracy: 0.7698 - val_loss: 0.5232 - val_accuracy: 0.7394\n",
      "Epoch 49/100\n",
      "16800/16800 [==============================] - 5s 279us/sample - loss: 0.4778 - accuracy: 0.7706 - val_loss: 0.5271 - val_accuracy: 0.7410\n",
      "Epoch 50/100\n",
      "16800/16800 [==============================] - 5s 272us/sample - loss: 0.4768 - accuracy: 0.7700 - val_loss: 0.5233 - val_accuracy: 0.7426\n",
      "6000/6000 [==============================] - 1s 138us/sample - loss: 0.5464 - accuracy: 0.7507\n",
      "\n",
      "Accuracy: 0.751\n"
     ]
    }
   ],
   "source": [
    "early_stopping_cb = keras.callbacks.EarlyStopping(patience=10, restore_best_weights=True)\n",
    "d2v_birnn_model = keras.models.Sequential([\n",
    "    keras.layers.Bidirectional(keras.layers.LSTM(100, dropout=0.2, activation=\"relu\", return_sequences=True), input_shape=[1, vector_size]),\n",
    "    keras.layers.Dense(1, activation=\"sigmoid\")\n",
    "])\n",
    "sgd = keras.optimizers.SGD(lr=0.03, momentum=0.9, nesterov=True)\n",
    "d2v_birnn_model.compile(loss=\"binary_crossentropy\", optimizer=sgd, metrics=[\"accuracy\"])\n",
    "d2v_birnn_model.fit(doc2vec_X_train_3d, y_train, validation_split=0.3, epochs=100, callbacks=[early_stopping_cb])\n",
    "scores_ = d2v_birnn_model.evaluate(doc2vec_X_test_3d, y_test)\n",
    "print(\"\\nAccuracy:\", round(scores_[1],3))"
   ]
  },
  {
   "cell_type": "markdown",
   "metadata": {},
   "source": [
    "# Training with an Embedding Layer"
   ]
  },
  {
   "cell_type": "code",
   "execution_count": 44,
   "metadata": {},
   "outputs": [],
   "source": [
    "tokenizer = Tokenizer(num_words=5000, oov_token='OOV', filters='\\t\\n', lower=False)\n",
    "tokenizer.fit_on_texts(list(X_train['review_body'].values))\n",
    "encoded_train_list = tokenizer.texts_to_sequences(list(X_train['review_body'].values))\n",
    "encoded_test_list = tokenizer.texts_to_sequences(list(X_test['review_body'].values))"
   ]
  },
  {
   "cell_type": "code",
   "execution_count": 45,
   "metadata": {},
   "outputs": [
    {
     "name": "stdout",
     "output_type": "stream",
     "text": [
      "highly complex setup toggle controls on many my electornic components eg on off input greatly complicate setup limit utility remote particularly key central activities function remote able duplicate remotes 0 electonic components in my tv audio syem suffficiently replace those remotes most functions but my old 0 universal r 0 about as well could not duplicate my lg dvd vcr recorder sufficiently eliminate use decicated lg remote more demanding functions like recording setup setup changes logtech remote must done on logtech web site setup settings stored on web site you unable store save settings independently device overlly sensitivity touch screen with small buttons frequent entry errors mechanical controls also small hard push not refined feel my hands\n",
      "\n",
      " ['highly complex setup toggle controls on many my OOV components OOV on off input greatly OOV setup limit utility remote particularly key central activities function remote able OOV remotes 0 OOV components in my tv audio OOV OOV replace those remotes most functions but my old 0 universal r 0 about as well could not OOV my lg dvd vcr recorder OOV eliminate use OOV lg remote more demanding functions like recording setup setup changes OOV remote must done on OOV web site setup settings stored on web site you unable store save settings independently device OOV sensitivity touch screen with small buttons frequent entry errors mechanical controls also small hard push not refined feel my hands']\n"
     ]
    }
   ],
   "source": [
    "print(X_train.review_body.iloc[0])\n",
    "print('\\n',tokenizer.sequences_to_texts([encoded_train_list[0]]))"
   ]
  },
  {
   "cell_type": "code",
   "execution_count": 60,
   "metadata": {},
   "outputs": [
    {
     "name": "stdout",
     "output_type": "stream",
     "text": [
      "      0   1\n",
      "0   OOV   1\n",
      "1     i   2\n",
      "2     0   3\n",
      "3    it   4\n",
      "4   not   5\n",
      "5  this   6\n",
      "6  that   7\n",
      "7   you   8\n",
      "8    in   9\n",
      "9  with  10\n",
      "Length: 44486\n"
     ]
    }
   ],
   "source": [
    "voc = pd.DataFrame(tokenizer.word_index.items())\n",
    "print(voc.head(10))\n",
    "print('Length:',len(voc))"
   ]
  },
  {
   "cell_type": "code",
   "execution_count": 47,
   "metadata": {},
   "outputs": [
    {
     "data": {
      "text/plain": [
       "4701"
      ]
     },
     "execution_count": 47,
     "metadata": {},
     "output_type": "execute_result"
    }
   ],
   "source": [
    "maxlen=-1\n",
    "for doc in encoded_train_list:\n",
    "    if maxlen<len(doc):\n",
    "        maxlen=len(doc)\n",
    "for doc in encoded_test_list:\n",
    "    if maxlen<len(doc):\n",
    "        maxlen=len(doc)\n",
    "maxlen"
   ]
  },
  {
   "cell_type": "code",
   "execution_count": 48,
   "metadata": {},
   "outputs": [],
   "source": [
    "padded_train = pad_sequences(encoded_train_list,maxlen=maxlen,padding='post',value=0)\n",
    "padded_test = pad_sequences(encoded_test_list,maxlen=maxlen,padding='post',value=0)"
   ]
  },
  {
   "cell_type": "code",
   "execution_count": 49,
   "metadata": {
    "scrolled": true
   },
   "outputs": [
    {
     "name": "stdout",
     "output_type": "stream",
     "text": [
      "Train on 16800 samples, validate on 7200 samples\n",
      "Epoch 1/30\n",
      "16800/16800 [==============================] - 113s 7ms/sample - loss: 0.6071 - accuracy: 0.6876 - val_loss: 0.4701 - val_accuracy: 0.7768\n",
      "Epoch 2/30\n",
      "16800/16800 [==============================] - 109s 6ms/sample - loss: 0.4356 - accuracy: 0.8095 - val_loss: 0.4557 - val_accuracy: 0.7928\n",
      "Epoch 3/30\n",
      "16800/16800 [==============================] - 109s 6ms/sample - loss: 0.3610 - accuracy: 0.8471 - val_loss: 0.4680 - val_accuracy: 0.7901\n",
      "Epoch 4/30\n",
      "16800/16800 [==============================] - 109s 7ms/sample - loss: 0.2780 - accuracy: 0.8861 - val_loss: 0.5309 - val_accuracy: 0.7836\n",
      "Epoch 5/30\n",
      "16800/16800 [==============================] - 110s 7ms/sample - loss: 0.1776 - accuracy: 0.9330 - val_loss: 0.8059 - val_accuracy: 0.7663\n",
      "Epoch 6/30\n",
      "16800/16800 [==============================] - 108s 6ms/sample - loss: 0.1134 - accuracy: 0.9586 - val_loss: 1.1832 - val_accuracy: 0.7513\n",
      "Epoch 7/30\n",
      "16800/16800 [==============================] - 110s 7ms/sample - loss: 0.0629 - accuracy: 0.9798 - val_loss: 1.2117 - val_accuracy: 0.7681\n",
      "Epoch 8/30\n",
      "16800/16800 [==============================] - 109s 6ms/sample - loss: 0.0431 - accuracy: 0.9857 - val_loss: 1.5207 - val_accuracy: 0.7583\n",
      "Epoch 9/30\n",
      "16800/16800 [==============================] - 109s 6ms/sample - loss: 0.0318 - accuracy: 0.9902 - val_loss: 1.7121 - val_accuracy: 0.7608\n",
      "Epoch 10/30\n",
      "16800/16800 [==============================] - 108s 6ms/sample - loss: 0.0370 - accuracy: 0.9864 - val_loss: 1.6255 - val_accuracy: 0.7546\n",
      "Epoch 11/30\n",
      "16800/16800 [==============================] - 110s 7ms/sample - loss: 0.0261 - accuracy: 0.9918 - val_loss: 2.0038 - val_accuracy: 0.7579\n",
      "Epoch 12/30\n",
      "16800/16800 [==============================] - 109s 6ms/sample - loss: 0.0263 - accuracy: 0.9912 - val_loss: 1.6769 - val_accuracy: 0.7543\n",
      "\n",
      " [[2549  451]\n",
      " [ 753 2247]]    Accuracy: 0.799  /   Precision: 0.833  /   Recall: 0.749  /   F1: 0.789\n"
     ]
    }
   ],
   "source": [
    "early_stopping_cb = keras.callbacks.EarlyStopping(patience=10, restore_best_weights=True)\n",
    "embed_size = 30\n",
    "embed_dnn_model = keras.models.Sequential([\n",
    "    keras.layers.Embedding(5001, embed_size, mask_zero=True, input_shape=(maxlen,)),\n",
    "    keras.layers.Flatten(),\n",
    "    keras.layers.Dense(200, activation=\"relu\"),\n",
    "    keras.layers.Dropout(0.5),\n",
    "    keras.layers.Dense(100, activation=\"relu\"),\n",
    "    keras.layers.Dropout(0.4),\n",
    "    keras.layers.Dense(1, activation=\"sigmoid\")\n",
    "])\n",
    "adam=keras.optimizers.Adam(learning_rate=0.01)\n",
    "embed_dnn_model.compile(loss=\"binary_crossentropy\", optimizer='adam', metrics=[\"accuracy\"])\n",
    "embed_dnn_history = embed_dnn_model.fit(padded_train, y_train, validation_split=0.3, epochs=30, callbacks=[early_stopping_cb])\n",
    "y_predict = embed_dnn_model.predict_classes(padded_test)\n",
    "scores(y_test, y_predict)"
   ]
  },
  {
   "cell_type": "code",
   "execution_count": 50,
   "metadata": {},
   "outputs": [
    {
     "data": {
      "text/plain": [
       "<matplotlib.legend.Legend at 0x1b794681fc8>"
      ]
     },
     "execution_count": 50,
     "metadata": {},
     "output_type": "execute_result"
    },
    {
     "data": {
      "image/png": "[encoded data removed]",
      "text/plain": [
       "<Figure size 432x288 with 1 Axes>"
      ]
     },
     "metadata": {
      "needs_background": "light"
     },
     "output_type": "display_data"
    }
   ],
   "source": [
    "plt.plot(embed_dnn_history.history['accuracy'])\n",
    "plt.plot(embed_dnn_history.history['val_accuracy'])\n",
    "plt.title(\"Custom Embedding Model's Learning Curve\")\n",
    "plt.ylabel('Accuracy')\n",
    "plt.xlabel('Epoch')\n",
    "plt.legend(['train', 'test'], loc='lower right')"
   ]
  },
  {
   "cell_type": "code",
   "execution_count": 51,
   "metadata": {},
   "outputs": [
    {
     "data": {
      "text/plain": [
       "array([[ 4.5061419e-03, -3.4585455e-03,  5.8500189e-03, ...,\n",
       "        -1.2488905e-03,  3.3553890e-03,  1.2057030e-03],\n",
       "       [-1.4115256e-05,  5.6882359e-02,  4.1942779e-02, ...,\n",
       "        -5.0195694e-02, -4.9790334e-02, -3.6120798e-02],\n",
       "       [-5.1997166e-02, -5.1464655e-02,  1.2043651e-02, ...,\n",
       "         9.5250860e-02,  5.0843794e-02,  2.2141786e-02],\n",
       "       ...,\n",
       "       [ 3.3902127e-02,  1.1910062e-02,  1.1071444e-02, ...,\n",
       "         5.8054436e-02, -8.4683988e-03, -4.0976010e-02],\n",
       "       [ 1.0858649e-01,  3.9711561e-02,  5.3277463e-02, ...,\n",
       "         6.2926195e-04, -1.3095191e-02,  7.6091371e-02],\n",
       "       [ 2.6002172e-02, -1.3061307e-02,  1.8642653e-02, ...,\n",
       "         4.2984020e-02,  1.8953968e-02,  3.6360804e-02]], dtype=float32)"
      ]
     },
     "execution_count": 51,
     "metadata": {},
     "output_type": "execute_result"
    }
   ],
   "source": [
    "embed_dnn_model.layers[0].get_weights()[0]"
   ]
  },
  {
   "cell_type": "markdown",
   "metadata": {},
   "source": [
    "# Using Pretrained Embedding Layers"
   ]
  },
  {
   "cell_type": "markdown",
   "metadata": {},
   "source": [
    "### 50-Dimentional Layer"
   ]
  },
  {
   "cell_type": "code",
   "execution_count": 52,
   "metadata": {
    "scrolled": true
   },
   "outputs": [
    {
     "name": "stdout",
     "output_type": "stream",
     "text": [
      "Train on 16800 samples, validate on 7200 samples\n",
      "Epoch 1/10\n",
      "16800/16800 [==============================] - 98s 6ms/sample - loss: 0.5821 - accuracy: 0.6953 - val_loss: 0.5538 - val_accuracy: 0.7233\n",
      "Epoch 2/10\n",
      "16800/16800 [==============================] - 98s 6ms/sample - loss: 0.5459 - accuracy: 0.7237 - val_loss: 0.5568 - val_accuracy: 0.7211\n",
      "Epoch 3/10\n",
      "16800/16800 [==============================] - 98s 6ms/sample - loss: 0.5410 - accuracy: 0.7293 - val_loss: 0.5472 - val_accuracy: 0.7272\n",
      "Epoch 4/10\n",
      "16800/16800 [==============================] - 97s 6ms/sample - loss: 0.5382 - accuracy: 0.7307 - val_loss: 0.5453 - val_accuracy: 0.7306\n",
      "Epoch 5/10\n",
      "16800/16800 [==============================] - 97s 6ms/sample - loss: 0.5349 - accuracy: 0.7320 - val_loss: 0.5448 - val_accuracy: 0.7301\n",
      "Epoch 6/10\n",
      "16800/16800 [==============================] - 98s 6ms/sample - loss: 0.5330 - accuracy: 0.7339 - val_loss: 0.5434 - val_accuracy: 0.7314\n",
      "Epoch 7/10\n",
      "16800/16800 [==============================] - 97s 6ms/sample - loss: 0.5313 - accuracy: 0.7354 - val_loss: 0.5430 - val_accuracy: 0.7303\n",
      "Epoch 8/10\n",
      "16800/16800 [==============================] - 104s 6ms/sample - loss: 0.5295 - accuracy: 0.7358 - val_loss: 0.5508 - val_accuracy: 0.7244\n",
      "Epoch 9/10\n",
      "16800/16800 [==============================] - 104s 6ms/sample - loss: 0.5278 - accuracy: 0.7345 - val_loss: 0.5394 - val_accuracy: 0.7314\n",
      "Epoch 10/10\n",
      "16800/16800 [==============================] - 112s 7ms/sample - loss: 0.5256 - accuracy: 0.7383 - val_loss: 0.5386 - val_accuracy: 0.7328\n",
      "\n",
      " [[2296  704]\n",
      " [ 808 2192]]    Accuracy: 0.748  /   Precision: 0.757  /   Recall: 0.731  /   F1: 0.744\n"
     ]
    }
   ],
   "source": [
    "dim50_model = keras.Sequential([\n",
    "    hub.KerasLayer(\"https://tfhub.dev/google/tf2-preview/nnlm-en-dim50/1\",\n",
    "                   dtype=tf.string, input_shape=[], output_shape=[50]),\n",
    "    keras.layers.Dense(30, activation=\"relu\"),\n",
    "    keras.layers.Dense(1, activation=\"sigmoid\")\n",
    "])\n",
    "dim50_model.compile(loss=\"binary_crossentropy\", optimizer=\"adam\", metrics=[\"accuracy\"])\n",
    "dim50_model.fit(X_train['review_body'], y_train, validation_split=0.3, epochs=10)\n",
    "y_predict = dim50_model.predict_classes(X_test['review_body'])\n",
    "scores(y_test, y_predict)"
   ]
  },
  {
   "cell_type": "markdown",
   "metadata": {},
   "source": [
    "### 128-Dimentional Layer"
   ]
  },
  {
   "cell_type": "code",
   "execution_count": 53,
   "metadata": {
    "scrolled": true
   },
   "outputs": [
    {
     "name": "stdout",
     "output_type": "stream",
     "text": [
      "Train on 16800 samples, validate on 7200 samples\n",
      "Epoch 1/10\n",
      "16800/16800 [==============================] - 331s 20ms/sample - loss: 0.5567 - accuracy: 0.7171 - val_loss: 0.5225 - val_accuracy: 0.7478\n",
      "Epoch 2/10\n",
      "16800/16800 [==============================] - 261s 16ms/sample - loss: 0.5116 - accuracy: 0.7577 - val_loss: 0.5244 - val_accuracy: 0.7471\n",
      "Epoch 3/10\n",
      "16800/16800 [==============================] - 257s 15ms/sample - loss: 0.5017 - accuracy: 0.7624 - val_loss: 0.5062 - val_accuracy: 0.7624\n",
      "Epoch 4/10\n",
      "16800/16800 [==============================] - 261s 16ms/sample - loss: 0.4970 - accuracy: 0.7640 - val_loss: 0.5022 - val_accuracy: 0.7638\n",
      "Epoch 5/10\n",
      "16800/16800 [==============================] - 262s 16ms/sample - loss: 0.4914 - accuracy: 0.7674 - val_loss: 0.5024 - val_accuracy: 0.7642\n",
      "Epoch 6/10\n",
      "16800/16800 [==============================] - 372s 22ms/sample - loss: 0.4877 - accuracy: 0.7689 - val_loss: 0.4977 - val_accuracy: 0.7679\n",
      "Epoch 7/10\n",
      "16800/16800 [==============================] - 458s 27ms/sample - loss: 0.4824 - accuracy: 0.7679 - val_loss: 0.5007 - val_accuracy: 0.7646\n",
      "Epoch 8/10\n",
      "16800/16800 [==============================] - 451s 27ms/sample - loss: 0.4790 - accuracy: 0.7751 - val_loss: 0.5016 - val_accuracy: 0.7594\n",
      "Epoch 9/10\n",
      "16800/16800 [==============================] - 457s 27ms/sample - loss: 0.4744 - accuracy: 0.7775 - val_loss: 0.4975 - val_accuracy: 0.7646\n",
      "Epoch 10/10\n",
      "16800/16800 [==============================] - 450s 27ms/sample - loss: 0.4722 - accuracy: 0.7774 - val_loss: 0.4937 - val_accuracy: 0.7699\n",
      "\n",
      " [[2477  523]\n",
      " [ 847 2153]]    Accuracy: 0.772  /   Precision: 0.805  /   Recall: 0.718  /   F1: 0.759\n"
     ]
    }
   ],
   "source": [
    "dim128_model = keras.Sequential([\n",
    "    hub.KerasLayer(\"https://tfhub.dev/google/tf2-preview/nnlm-en-dim128/1\", output_shape=[128],\n",
    "                   input_shape=[], dtype=tf.string),\n",
    "    keras.layers.Dense(50, activation=\"relu\"),\n",
    "    keras.layers.Dense(1, activation=\"sigmoid\")\n",
    "])\n",
    "dim128_model.compile(loss=\"binary_crossentropy\", optimizer=\"adam\", metrics=[\"accuracy\"])\n",
    "\n",
    "dim128_model.fit(X_train['review_body'], y_train, validation_split=0.3, epochs=10)\n",
    "y_predict = dim128_model.predict_classes(X_test['review_body'])\n",
    "scores(y_test, y_predict)"
   ]
  },
  {
   "cell_type": "markdown",
   "metadata": {},
   "source": [
    "# Making Predictions"
   ]
  },
  {
   "cell_type": "code",
   "execution_count": 54,
   "metadata": {},
   "outputs": [
    {
     "name": "stdout",
     "output_type": "stream",
     "text": [
      "before you buy this awful product check out warranty it only 0 days nomad business plan sell expensive piece equipment that most definitely fail after 0 usually before 0 days so that unwary buyer then pay exbortitant fee replace something that should not broken in first place should under warranty if it our first nomad drive crashed in one week second lasted about 0 months our experience here far from unique when customer service wanted charge us 0 0 repair we took high road bought ipod we also shipped dead unit company president who apparently content with his dupe consumer program caveat emptor\n",
      "\n",
      "Predicted probability: [[0.16460235]]\n",
      "\n",
      "Predicted class: [[0]]\n"
     ]
    }
   ],
   "source": [
    "print(X_test.review_body.iloc[0])\n",
    "test = padded_test[0].reshape(1,-1)\n",
    "print('\\nPredicted probability:', embed_dnn_model.predict(test))\n",
    "print('\\nPredicted class:', embed_dnn_model.predict_classes(test))"
   ]
  },
  {
   "cell_type": "code",
   "execution_count": 55,
   "metadata": {},
   "outputs": [
    {
     "name": "stdout",
     "output_type": "stream",
     "text": [
      "these cases not suitable replace broken clear jewel cases because there area ridges along left side that obscures artwork tray where cd sits made frosted plastic which also obscures artwork jewel cases i received not same as those pictured in amazon listing they also made very thin plastic feel flimsy they definitely not superior in quality manufactured designed exceed industry standards as amazon listing states\n",
      "\n",
      "Predicted probability: [[0.8584746]]\n",
      "\n",
      "Predicted class: [[1]]\n"
     ]
    }
   ],
   "source": [
    "print(X_test.review_body.iloc[1])\n",
    "test = padded_test[1].reshape(1,-1)\n",
    "print('\\nPredicted probability:', embed_dnn_model.predict(test))\n",
    "print('\\nPredicted class:', embed_dnn_model.predict_classes(test))"
   ]
  },
  {
   "cell_type": "markdown",
   "metadata": {},
   "source": [
    "# Code References\n",
    "\n",
    "Hands-On Machine Learning with Scikit-Learn, Keras, and TensorFlow, 2nd Edition - Geron, Aurelien\n",
    "\n",
    "https://www.linkedin.com/learning/nlp-with-python-for-machine-learning-essential-training\n",
    "\n",
    "https://medium.com/@morga046/multi-class-text-classification-with-doc2vec-and-t-sne-a-full-tutorial-55eb24fc40d3\n",
    "\n",
    "https://towardsdatascience.com/collocations-in-nlp-using-nltk-library-2541002998db\n"
   ]
  },
  {
   "cell_type": "code",
   "execution_count": null,
   "metadata": {},
   "outputs": [],
   "source": []
  }
 ],
 "metadata": {
  "kernelspec": {
   "display_name": "Python 3",
   "language": "python",
   "name": "python3"
  },
  "language_info": {
   "codemirror_mode": {
    "name": "ipython",
    "version": 3
   },
   "file_extension": ".py",
   "mimetype": "text/x-python",
   "name": "python",
   "nbconvert_exporter": "python",
   "pygments_lexer": "ipython3",
   "version": "3.7.7"
  }
 },
 "nbformat": 4,
 "nbformat_minor": 2
}
